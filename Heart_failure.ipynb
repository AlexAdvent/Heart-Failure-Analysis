{
 "cells": [
  {
   "cell_type": "markdown",
   "metadata": {
    "papermill": {
     "duration": 0.044845,
     "end_time": "2021-07-14T07:12:32.342747",
     "exception": false,
     "start_time": "2021-07-14T07:12:32.297902",
     "status": "completed"
    },
    "tags": []
   },
   "source": [
    "# Import Libraries"
   ]
  },
  {
   "cell_type": "code",
   "execution_count": 95,
   "metadata": {
    "ExecuteTime": {
     "end_time": "2021-08-31T04:46:26.374562Z",
     "start_time": "2021-08-31T04:46:26.359602Z"
    },
    "_cell_guid": "79c7e3d0-c299-4dcb-8224-4455121ee9b0",
    "_uuid": "d629ff2d2480ee46fbb7e2d37f6b5fab8052498a",
    "execution": {
     "iopub.execute_input": "2021-07-14T07:12:32.444333Z",
     "iopub.status.busy": "2021-07-14T07:12:32.443670Z",
     "iopub.status.idle": "2021-07-14T07:12:36.678756Z",
     "shell.execute_reply": "2021-07-14T07:12:36.679258Z",
     "shell.execute_reply.started": "2021-07-14T07:11:40.843280Z"
    },
    "papermill": {
     "duration": 4.290825,
     "end_time": "2021-07-14T07:12:36.679404",
     "exception": false,
     "start_time": "2021-07-14T07:12:32.388579",
     "status": "completed"
    },
    "tags": []
   },
   "outputs": [
    {
     "ename": "ModuleNotFoundError",
     "evalue": "No module named 'mlxtend'",
     "output_type": "error",
     "traceback": [
      "\u001b[1;31m---------------------------------------------------------------------------\u001b[0m",
      "\u001b[1;31mModuleNotFoundError\u001b[0m                       Traceback (most recent call last)",
      "\u001b[1;32m<ipython-input-95-f1ec67e5c293>\u001b[0m in \u001b[0;36m<module>\u001b[1;34m\u001b[0m\n\u001b[0;32m      7\u001b[0m \u001b[1;32mimport\u001b[0m \u001b[0mpandas\u001b[0m \u001b[1;32mas\u001b[0m \u001b[0mpd\u001b[0m\u001b[1;33m\u001b[0m\u001b[1;33m\u001b[0m\u001b[0m\n\u001b[0;32m      8\u001b[0m \u001b[1;33m\u001b[0m\u001b[0m\n\u001b[1;32m----> 9\u001b[1;33m \u001b[1;32mfrom\u001b[0m \u001b[0mmlxtend\u001b[0m\u001b[1;33m.\u001b[0m\u001b[0mplotting\u001b[0m \u001b[1;32mimport\u001b[0m \u001b[0mplot_confusion_matrix\u001b[0m\u001b[1;33m\u001b[0m\u001b[1;33m\u001b[0m\u001b[0m\n\u001b[0m\u001b[0;32m     10\u001b[0m \u001b[1;31m# from plotly.offline import plot, iplot, init_notebook_mode\u001b[0m\u001b[1;33m\u001b[0m\u001b[1;33m\u001b[0m\u001b[1;33m\u001b[0m\u001b[0m\n\u001b[0;32m     11\u001b[0m \u001b[1;31m# import plotly.graph_objs as go\u001b[0m\u001b[1;33m\u001b[0m\u001b[1;33m\u001b[0m\u001b[1;33m\u001b[0m\u001b[0m\n",
      "\u001b[1;31mModuleNotFoundError\u001b[0m: No module named 'mlxtend'"
     ]
    }
   ],
   "source": [
    "import matplotlib.pyplot as plt\n",
    "import warnings\n",
    "import seaborn as sns\n",
    "from colorama import Fore, Back, Style \n",
    "from sklearn.model_selection import train_test_split\n",
    "from sklearn.metrics import confusion_matrix, accuracy_score\n",
    "import pandas as pd\n",
    "\n",
    "from mlxtend.plotting import plot_confusion_matrix\n",
    "# from plotly.offline import plot, iplot, init_notebook_mode\n",
    "# import plotly.graph_objs as go\n",
    "# from plotly.subplots import make_subplots\n",
    "# import plotly.express as px\n",
    "# from statsmodels.formula.api import ols\n",
    "# import plotly.graph_objs as gobj\n",
    "\n",
    "# init_notebook_mode(connected=True)\n",
    "# warnings.filterwarnings(\"ignore\")\n",
    "# import plotly.figure_factory as ff\n",
    "\n",
    "\n",
    "import matplotlib as mpl\n",
    "import matplotlib.pyplot as plt\n",
    "%matplotlib inline\n",
    "%matplotlib inline\n",
    "\n",
    "# import xgboost\n",
    "# import lightgbm\n",
    "from sklearn.svm import SVC\n",
    "from sklearn.ensemble import GradientBoostingClassifier\n",
    "from sklearn.ensemble import RandomForestClassifier\n",
    "from sklearn.tree import DecisionTreeClassifier\n",
    "from sklearn.neighbors import KNeighborsClassifier\n",
    "from sklearn.linear_model import LogisticRegression"
   ]
  },
  {
   "cell_type": "markdown",
   "metadata": {
    "papermill": {
     "duration": 0.044364,
     "end_time": "2021-07-14T07:12:36.769246",
     "exception": false,
     "start_time": "2021-07-14T07:12:36.724882",
     "status": "completed"
    },
    "tags": []
   },
   "source": [
    "# **Lets Explore the data**"
   ]
  },
  {
   "cell_type": "code",
   "execution_count": 26,
   "metadata": {
    "ExecuteTime": {
     "end_time": "2021-08-31T03:23:48.891836Z",
     "start_time": "2021-08-31T03:23:48.864908Z"
    },
    "execution": {
     "iopub.execute_input": "2021-07-14T07:12:36.862644Z",
     "iopub.status.busy": "2021-07-14T07:12:36.861957Z",
     "iopub.status.idle": "2021-07-14T07:12:36.897279Z",
     "shell.execute_reply": "2021-07-14T07:12:36.897754Z",
     "shell.execute_reply.started": "2021-07-14T07:11:45.059650Z"
    },
    "papermill": {
     "duration": 0.083138,
     "end_time": "2021-07-14T07:12:36.897891",
     "exception": false,
     "start_time": "2021-07-14T07:12:36.814753",
     "status": "completed"
    },
    "tags": []
   },
   "outputs": [
    {
     "data": {
      "text/html": [
       "<div>\n",
       "<style scoped>\n",
       "    .dataframe tbody tr th:only-of-type {\n",
       "        vertical-align: middle;\n",
       "    }\n",
       "\n",
       "    .dataframe tbody tr th {\n",
       "        vertical-align: top;\n",
       "    }\n",
       "\n",
       "    .dataframe thead th {\n",
       "        text-align: right;\n",
       "    }\n",
       "</style>\n",
       "<table border=\"1\" class=\"dataframe\">\n",
       "  <thead>\n",
       "    <tr style=\"text-align: right;\">\n",
       "      <th></th>\n",
       "      <th>age</th>\n",
       "      <th>anaemia</th>\n",
       "      <th>creatinine_phosphokinase</th>\n",
       "      <th>diabetes</th>\n",
       "      <th>ejection_fraction</th>\n",
       "      <th>high_blood_pressure</th>\n",
       "      <th>platelets</th>\n",
       "      <th>serum_creatinine</th>\n",
       "      <th>serum_sodium</th>\n",
       "      <th>sex</th>\n",
       "      <th>smoking</th>\n",
       "      <th>time</th>\n",
       "      <th>DEATH_EVENT</th>\n",
       "    </tr>\n",
       "  </thead>\n",
       "  <tbody>\n",
       "    <tr>\n",
       "      <th>0</th>\n",
       "      <td>75.0</td>\n",
       "      <td>0</td>\n",
       "      <td>582</td>\n",
       "      <td>0</td>\n",
       "      <td>20</td>\n",
       "      <td>1</td>\n",
       "      <td>265000.00</td>\n",
       "      <td>1.9</td>\n",
       "      <td>130</td>\n",
       "      <td>1.0</td>\n",
       "      <td>0.0</td>\n",
       "      <td>4</td>\n",
       "      <td>1</td>\n",
       "    </tr>\n",
       "    <tr>\n",
       "      <th>1</th>\n",
       "      <td>55.0</td>\n",
       "      <td>0</td>\n",
       "      <td>7861</td>\n",
       "      <td>0</td>\n",
       "      <td>38</td>\n",
       "      <td>0</td>\n",
       "      <td>263358.03</td>\n",
       "      <td>1.1</td>\n",
       "      <td>136</td>\n",
       "      <td>1.0</td>\n",
       "      <td>0.0</td>\n",
       "      <td>6</td>\n",
       "      <td>1</td>\n",
       "    </tr>\n",
       "    <tr>\n",
       "      <th>2</th>\n",
       "      <td>65.0</td>\n",
       "      <td>0</td>\n",
       "      <td>146</td>\n",
       "      <td>0</td>\n",
       "      <td>20</td>\n",
       "      <td>0</td>\n",
       "      <td>162000.00</td>\n",
       "      <td>1.3</td>\n",
       "      <td>129</td>\n",
       "      <td>1.0</td>\n",
       "      <td>1.0</td>\n",
       "      <td>7</td>\n",
       "      <td>1</td>\n",
       "    </tr>\n",
       "    <tr>\n",
       "      <th>3</th>\n",
       "      <td>50.0</td>\n",
       "      <td>1</td>\n",
       "      <td>111</td>\n",
       "      <td>0</td>\n",
       "      <td>20</td>\n",
       "      <td>0</td>\n",
       "      <td>210000.00</td>\n",
       "      <td>1.9</td>\n",
       "      <td>137</td>\n",
       "      <td>1.0</td>\n",
       "      <td>0.0</td>\n",
       "      <td>7</td>\n",
       "      <td>1</td>\n",
       "    </tr>\n",
       "    <tr>\n",
       "      <th>4</th>\n",
       "      <td>65.0</td>\n",
       "      <td>1</td>\n",
       "      <td>160</td>\n",
       "      <td>1</td>\n",
       "      <td>20</td>\n",
       "      <td>0</td>\n",
       "      <td>327000.00</td>\n",
       "      <td>2.7</td>\n",
       "      <td>116</td>\n",
       "      <td>0.0</td>\n",
       "      <td>0.0</td>\n",
       "      <td>8</td>\n",
       "      <td>1</td>\n",
       "    </tr>\n",
       "  </tbody>\n",
       "</table>\n",
       "</div>"
      ],
      "text/plain": [
       "    age  anaemia  creatinine_phosphokinase  diabetes  ejection_fraction  \\\n",
       "0  75.0        0                       582         0                 20   \n",
       "1  55.0        0                      7861         0                 38   \n",
       "2  65.0        0                       146         0                 20   \n",
       "3  50.0        1                       111         0                 20   \n",
       "4  65.0        1                       160         1                 20   \n",
       "\n",
       "   high_blood_pressure  platelets  serum_creatinine  serum_sodium  sex  \\\n",
       "0                    1  265000.00               1.9           130  1.0   \n",
       "1                    0  263358.03               1.1           136  1.0   \n",
       "2                    0  162000.00               1.3           129  1.0   \n",
       "3                    0  210000.00               1.9           137  1.0   \n",
       "4                    0  327000.00               2.7           116  0.0   \n",
       "\n",
       "   smoking  time  DEATH_EVENT  \n",
       "0      0.0     4            1  \n",
       "1      0.0     6            1  \n",
       "2      1.0     7            1  \n",
       "3      0.0     7            1  \n",
       "4      0.0     8            1  "
      ]
     },
     "execution_count": 26,
     "metadata": {},
     "output_type": "execute_result"
    }
   ],
   "source": [
    "df = pd.read_csv('dataset.csv')\n",
    "df.head()"
   ]
  },
  {
   "cell_type": "markdown",
   "metadata": {
    "papermill": {
     "duration": 0.046776,
     "end_time": "2021-07-14T07:12:36.991232",
     "exception": false,
     "start_time": "2021-07-14T07:12:36.944456",
     "status": "completed"
    },
    "tags": []
   },
   "source": [
    "* Sex - Gender of patient Male = 1, Female =0\n",
    "* Age - Age of patient\n",
    "* Diabetes - 0 = No, 1 = Yes\n",
    "* Anaemia - 0 = No, 1 = Yes\n",
    "* High_blood_pressure - 0 = No, 1 = Yes\n",
    "* Smoking - 0 = No, 1 = Yes\n",
    "* DEATH_EVENT - 0 = No, 1 = Yes\n"
   ]
  },
  {
   "cell_type": "code",
   "execution_count": 27,
   "metadata": {
    "ExecuteTime": {
     "end_time": "2021-08-31T03:23:49.769703Z",
     "start_time": "2021-08-31T03:23:49.733772Z"
    },
    "scrolled": true
   },
   "outputs": [
    {
     "data": {
      "text/html": [
       "<div>\n",
       "<style scoped>\n",
       "    .dataframe tbody tr th:only-of-type {\n",
       "        vertical-align: middle;\n",
       "    }\n",
       "\n",
       "    .dataframe tbody tr th {\n",
       "        vertical-align: top;\n",
       "    }\n",
       "\n",
       "    .dataframe thead th {\n",
       "        text-align: right;\n",
       "    }\n",
       "</style>\n",
       "<table border=\"1\" class=\"dataframe\">\n",
       "  <thead>\n",
       "    <tr style=\"text-align: right;\">\n",
       "      <th></th>\n",
       "      <th>count</th>\n",
       "      <th>mean</th>\n",
       "      <th>std</th>\n",
       "      <th>min</th>\n",
       "      <th>25%</th>\n",
       "      <th>50%</th>\n",
       "      <th>75%</th>\n",
       "      <th>max</th>\n",
       "    </tr>\n",
       "  </thead>\n",
       "  <tbody>\n",
       "    <tr>\n",
       "      <th>age</th>\n",
       "      <td>294.0</td>\n",
       "      <td>60.848075</td>\n",
       "      <td>11.995368</td>\n",
       "      <td>40.0</td>\n",
       "      <td>50.25</td>\n",
       "      <td>60.0</td>\n",
       "      <td>70.0</td>\n",
       "      <td>95.0</td>\n",
       "    </tr>\n",
       "    <tr>\n",
       "      <th>anaemia</th>\n",
       "      <td>299.0</td>\n",
       "      <td>0.431438</td>\n",
       "      <td>0.496107</td>\n",
       "      <td>0.0</td>\n",
       "      <td>0.00</td>\n",
       "      <td>0.0</td>\n",
       "      <td>1.0</td>\n",
       "      <td>1.0</td>\n",
       "    </tr>\n",
       "    <tr>\n",
       "      <th>creatinine_phosphokinase</th>\n",
       "      <td>299.0</td>\n",
       "      <td>581.839465</td>\n",
       "      <td>970.287881</td>\n",
       "      <td>23.0</td>\n",
       "      <td>116.50</td>\n",
       "      <td>250.0</td>\n",
       "      <td>582.0</td>\n",
       "      <td>7861.0</td>\n",
       "    </tr>\n",
       "    <tr>\n",
       "      <th>diabetes</th>\n",
       "      <td>299.0</td>\n",
       "      <td>0.418060</td>\n",
       "      <td>0.494067</td>\n",
       "      <td>0.0</td>\n",
       "      <td>0.00</td>\n",
       "      <td>0.0</td>\n",
       "      <td>1.0</td>\n",
       "      <td>1.0</td>\n",
       "    </tr>\n",
       "    <tr>\n",
       "      <th>ejection_fraction</th>\n",
       "      <td>299.0</td>\n",
       "      <td>38.083612</td>\n",
       "      <td>11.834841</td>\n",
       "      <td>14.0</td>\n",
       "      <td>30.00</td>\n",
       "      <td>38.0</td>\n",
       "      <td>45.0</td>\n",
       "      <td>80.0</td>\n",
       "    </tr>\n",
       "    <tr>\n",
       "      <th>high_blood_pressure</th>\n",
       "      <td>299.0</td>\n",
       "      <td>0.351171</td>\n",
       "      <td>0.478136</td>\n",
       "      <td>0.0</td>\n",
       "      <td>0.00</td>\n",
       "      <td>0.0</td>\n",
       "      <td>1.0</td>\n",
       "      <td>1.0</td>\n",
       "    </tr>\n",
       "    <tr>\n",
       "      <th>platelets</th>\n",
       "      <td>299.0</td>\n",
       "      <td>263358.029264</td>\n",
       "      <td>97804.236869</td>\n",
       "      <td>25100.0</td>\n",
       "      <td>212500.00</td>\n",
       "      <td>262000.0</td>\n",
       "      <td>303500.0</td>\n",
       "      <td>850000.0</td>\n",
       "    </tr>\n",
       "    <tr>\n",
       "      <th>serum_creatinine</th>\n",
       "      <td>299.0</td>\n",
       "      <td>1.393880</td>\n",
       "      <td>1.034510</td>\n",
       "      <td>0.5</td>\n",
       "      <td>0.90</td>\n",
       "      <td>1.1</td>\n",
       "      <td>1.4</td>\n",
       "      <td>9.4</td>\n",
       "    </tr>\n",
       "    <tr>\n",
       "      <th>serum_sodium</th>\n",
       "      <td>299.0</td>\n",
       "      <td>136.625418</td>\n",
       "      <td>4.412477</td>\n",
       "      <td>113.0</td>\n",
       "      <td>134.00</td>\n",
       "      <td>137.0</td>\n",
       "      <td>140.0</td>\n",
       "      <td>148.0</td>\n",
       "    </tr>\n",
       "    <tr>\n",
       "      <th>sex</th>\n",
       "      <td>295.0</td>\n",
       "      <td>0.644068</td>\n",
       "      <td>0.479608</td>\n",
       "      <td>0.0</td>\n",
       "      <td>0.00</td>\n",
       "      <td>1.0</td>\n",
       "      <td>1.0</td>\n",
       "      <td>1.0</td>\n",
       "    </tr>\n",
       "    <tr>\n",
       "      <th>smoking</th>\n",
       "      <td>295.0</td>\n",
       "      <td>0.325424</td>\n",
       "      <td>0.469329</td>\n",
       "      <td>0.0</td>\n",
       "      <td>0.00</td>\n",
       "      <td>0.0</td>\n",
       "      <td>1.0</td>\n",
       "      <td>1.0</td>\n",
       "    </tr>\n",
       "    <tr>\n",
       "      <th>time</th>\n",
       "      <td>299.0</td>\n",
       "      <td>130.260870</td>\n",
       "      <td>77.614208</td>\n",
       "      <td>4.0</td>\n",
       "      <td>73.00</td>\n",
       "      <td>115.0</td>\n",
       "      <td>203.0</td>\n",
       "      <td>285.0</td>\n",
       "    </tr>\n",
       "    <tr>\n",
       "      <th>DEATH_EVENT</th>\n",
       "      <td>299.0</td>\n",
       "      <td>0.321070</td>\n",
       "      <td>0.467670</td>\n",
       "      <td>0.0</td>\n",
       "      <td>0.00</td>\n",
       "      <td>0.0</td>\n",
       "      <td>1.0</td>\n",
       "      <td>1.0</td>\n",
       "    </tr>\n",
       "  </tbody>\n",
       "</table>\n",
       "</div>"
      ],
      "text/plain": [
       "                          count           mean           std      min  \\\n",
       "age                       294.0      60.848075     11.995368     40.0   \n",
       "anaemia                   299.0       0.431438      0.496107      0.0   \n",
       "creatinine_phosphokinase  299.0     581.839465    970.287881     23.0   \n",
       "diabetes                  299.0       0.418060      0.494067      0.0   \n",
       "ejection_fraction         299.0      38.083612     11.834841     14.0   \n",
       "high_blood_pressure       299.0       0.351171      0.478136      0.0   \n",
       "platelets                 299.0  263358.029264  97804.236869  25100.0   \n",
       "serum_creatinine          299.0       1.393880      1.034510      0.5   \n",
       "serum_sodium              299.0     136.625418      4.412477    113.0   \n",
       "sex                       295.0       0.644068      0.479608      0.0   \n",
       "smoking                   295.0       0.325424      0.469329      0.0   \n",
       "time                      299.0     130.260870     77.614208      4.0   \n",
       "DEATH_EVENT               299.0       0.321070      0.467670      0.0   \n",
       "\n",
       "                                25%       50%       75%       max  \n",
       "age                           50.25      60.0      70.0      95.0  \n",
       "anaemia                        0.00       0.0       1.0       1.0  \n",
       "creatinine_phosphokinase     116.50     250.0     582.0    7861.0  \n",
       "diabetes                       0.00       0.0       1.0       1.0  \n",
       "ejection_fraction             30.00      38.0      45.0      80.0  \n",
       "high_blood_pressure            0.00       0.0       1.0       1.0  \n",
       "platelets                 212500.00  262000.0  303500.0  850000.0  \n",
       "serum_creatinine               0.90       1.1       1.4       9.4  \n",
       "serum_sodium                 134.00     137.0     140.0     148.0  \n",
       "sex                            0.00       1.0       1.0       1.0  \n",
       "smoking                        0.00       0.0       1.0       1.0  \n",
       "time                          73.00     115.0     203.0     285.0  \n",
       "DEATH_EVENT                    0.00       0.0       1.0       1.0  "
      ]
     },
     "execution_count": 27,
     "metadata": {},
     "output_type": "execute_result"
    }
   ],
   "source": [
    "df.describe().T"
   ]
  },
  {
   "cell_type": "markdown",
   "metadata": {},
   "source": [
    "platelets have mean 263358.029264, we need to normalize it."
   ]
  },
  {
   "cell_type": "code",
   "execution_count": 28,
   "metadata": {
    "ExecuteTime": {
     "end_time": "2021-08-31T03:23:50.794505Z",
     "start_time": "2021-08-31T03:23:50.773562Z"
    },
    "scrolled": true
   },
   "outputs": [
    {
     "name": "stdout",
     "output_type": "stream",
     "text": [
      "<class 'pandas.core.frame.DataFrame'>\n",
      "RangeIndex: 299 entries, 0 to 298\n",
      "Data columns (total 13 columns):\n",
      " #   Column                    Non-Null Count  Dtype  \n",
      "---  ------                    --------------  -----  \n",
      " 0   age                       294 non-null    float64\n",
      " 1   anaemia                   299 non-null    int64  \n",
      " 2   creatinine_phosphokinase  299 non-null    int64  \n",
      " 3   diabetes                  299 non-null    int64  \n",
      " 4   ejection_fraction         299 non-null    int64  \n",
      " 5   high_blood_pressure       299 non-null    int64  \n",
      " 6   platelets                 299 non-null    float64\n",
      " 7   serum_creatinine          299 non-null    float64\n",
      " 8   serum_sodium              299 non-null    int64  \n",
      " 9   sex                       295 non-null    float64\n",
      " 10  smoking                   295 non-null    float64\n",
      " 11  time                      299 non-null    int64  \n",
      " 12  DEATH_EVENT               299 non-null    int64  \n",
      "dtypes: float64(5), int64(8)\n",
      "memory usage: 30.5 KB\n"
     ]
    }
   ],
   "source": [
    "df.info()"
   ]
  },
  {
   "cell_type": "markdown",
   "metadata": {},
   "source": [
    "## Correlation between Attribute and Heart Failure"
   ]
  },
  {
   "cell_type": "code",
   "execution_count": 29,
   "metadata": {
    "ExecuteTime": {
     "end_time": "2021-08-31T03:23:52.013203Z",
     "start_time": "2021-08-31T03:23:51.869557Z"
    },
    "scrolled": false
   },
   "outputs": [
    {
     "data": {
      "text/plain": [
       "<AxesSubplot:>"
      ]
     },
     "execution_count": 29,
     "metadata": {},
     "output_type": "execute_result"
    },
    {
     "data": {
      "image/png": "[encoded data removed]",
      "text/plain": [
       "<Figure size 432x288 with 1 Axes>"
      ]
     },
     "metadata": {
      "needs_background": "light"
     },
     "output_type": "display_data"
    }
   ],
   "source": [
    "df.corr()['DEATH_EVENT'].drop('DEATH_EVENT').sort_values().plot(kind='bar')"
   ]
  },
  {
   "cell_type": "markdown",
   "metadata": {},
   "source": [
    "### Time attribute "
   ]
  },
  {
   "cell_type": "code",
   "execution_count": 30,
   "metadata": {
    "ExecuteTime": {
     "end_time": "2021-08-31T03:23:52.934913Z",
     "start_time": "2021-08-31T03:23:52.925909Z"
    }
   },
   "outputs": [
    {
     "data": {
      "text/plain": [
       "array([  4,   6,   7,   8,  10,  11,  12,  13,  14,  15,  16,  20,  22,\n",
       "        23,  24,  26,  27,  28,  29,  30,  31,  32,  33,  35,  38,  40,\n",
       "        41,  42,  43,  44,  45,  50,  54,  55,  59,  60,  61,  63,  64,\n",
       "        65,  66,  67,  68,  71,  72,  73,  74,  75,  76,  77,  78,  79,\n",
       "        80,  82,  83,  85,  86,  87,  88,  90,  91,  94,  95,  96,  97,\n",
       "       100, 104, 105, 106, 107, 108, 109, 110, 111, 112, 113, 115, 117,\n",
       "       118, 119, 120, 121, 123, 126, 129, 130, 134, 135, 140, 145, 146,\n",
       "       147, 148, 150, 154, 162, 170, 171, 172, 174, 175, 180, 185, 186,\n",
       "       187, 188, 192, 193, 194, 195, 196, 197, 198, 200, 201, 205, 206,\n",
       "       207, 208, 209, 210, 211, 212, 213, 214, 215, 216, 220, 230, 231,\n",
       "       233, 235, 237, 240, 241, 244, 245, 246, 247, 250, 256, 257, 258,\n",
       "       270, 271, 278, 280, 285], dtype=int64)"
      ]
     },
     "execution_count": 30,
     "metadata": {},
     "output_type": "execute_result"
    }
   ],
   "source": [
    "df['time'].unique()"
   ]
  },
  {
   "cell_type": "markdown",
   "metadata": {},
   "source": [
    "As time is the time at which patient died as we need to to predict the patient die or not so we don't know at what time in the future the patient will die/get censored!\n",
    "so, Using the time column as a feature is wrong."
   ]
  },
  {
   "cell_type": "code",
   "execution_count": 31,
   "metadata": {
    "ExecuteTime": {
     "end_time": "2021-08-31T03:23:53.952551Z",
     "start_time": "2021-08-31T03:23:53.933583Z"
    }
   },
   "outputs": [],
   "source": [
    "df=df.drop('time', axis=1)"
   ]
  },
  {
   "cell_type": "code",
   "execution_count": 32,
   "metadata": {
    "ExecuteTime": {
     "end_time": "2021-08-31T03:23:54.502499Z",
     "start_time": "2021-08-31T03:23:54.493522Z"
    }
   },
   "outputs": [
    {
     "data": {
      "text/plain": [
       "ejection_fraction          -0.268603\n",
       "serum_sodium               -0.195204\n",
       "platelets                  -0.049139\n",
       "smoking                    -0.014172\n",
       "sex                        -0.008241\n",
       "diabetes                   -0.001943\n",
       "creatinine_phosphokinase    0.062728\n",
       "anaemia                     0.066270\n",
       "high_blood_pressure         0.079351\n",
       "age                         0.256375\n",
       "serum_creatinine            0.294278\n",
       "Name: DEATH_EVENT, dtype: float64"
      ]
     },
     "execution_count": 32,
     "metadata": {},
     "output_type": "execute_result"
    }
   ],
   "source": [
    "df.corr()['DEATH_EVENT'].drop('DEATH_EVENT').sort_values()"
   ]
  },
  {
   "cell_type": "markdown",
   "metadata": {},
   "source": [
    "ejection_fraction, Age and serum_creatinine have a very high corellation with Death. Let us explore them further"
   ]
  },
  {
   "cell_type": "markdown",
   "metadata": {},
   "source": [
    "#### Visualizing dataset"
   ]
  },
  {
   "cell_type": "code",
   "execution_count": 33,
   "metadata": {
    "ExecuteTime": {
     "end_time": "2021-08-31T03:23:56.628733Z",
     "start_time": "2021-08-31T03:23:56.332865Z"
    }
   },
   "outputs": [
    {
     "data": {
      "text/plain": [
       "<seaborn.axisgrid.FacetGrid at 0x18e030eaeb0>"
      ]
     },
     "execution_count": 33,
     "metadata": {},
     "output_type": "execute_result"
    },
    {
     "data": {
      "text/plain": [
       "<Figure size 864x288 with 0 Axes>"
      ]
     },
     "metadata": {},
     "output_type": "display_data"
    },
    {
     "data": {
      "image/png": "[encoded data removed]",
      "text/plain": [
       "<Figure size 439.5x360 with 1 Axes>"
      ]
     },
     "metadata": {
      "needs_background": "light"
     },
     "output_type": "display_data"
    }
   ],
   "source": [
    "plt.figure(figsize=(12,4))\n",
    "sns.displot(data=df, x='age',hue='DEATH_EVENT')"
   ]
  },
  {
   "cell_type": "code",
   "execution_count": 34,
   "metadata": {
    "ExecuteTime": {
     "end_time": "2021-08-31T03:23:57.381158Z",
     "start_time": "2021-08-31T03:23:57.261454Z"
    }
   },
   "outputs": [
    {
     "data": {
      "text/plain": [
       "<AxesSubplot:xlabel='DEATH_EVENT', ylabel='age'>"
      ]
     },
     "execution_count": 34,
     "metadata": {},
     "output_type": "execute_result"
    },
    {
     "data": {
      "image/png": "[encoded data removed]",
      "text/plain": [
       "<Figure size 864x288 with 1 Axes>"
      ]
     },
     "metadata": {
      "needs_background": "light"
     },
     "output_type": "display_data"
    }
   ],
   "source": [
    "plt.figure(figsize=(12,4))\n",
    "sns.boxplot(data=df, x='DEATH_EVENT', y='age')"
   ]
  },
  {
   "cell_type": "code",
   "execution_count": 35,
   "metadata": {
    "ExecuteTime": {
     "end_time": "2021-08-31T03:23:57.928349Z",
     "start_time": "2021-08-31T03:23:57.910370Z"
    }
   },
   "outputs": [
    {
     "data": {
      "text/plain": [
       "array([1.9 , 1.1 , 1.3 , 2.7 , 2.1 , 1.2 , 1.5 , 9.4 , 4.  , 0.9 , 1.  ,\n",
       "       0.8 , 1.6 , 1.83, 5.8 , 3.  , 3.5 , 2.3 , 0.6 , 4.4 , 1.4 , 6.8 ,\n",
       "       2.2 , 2.  , 1.18, 2.9 , 0.7 , 1.7 , 2.5 , 1.8 , 3.2 , 0.75, 3.7 ,\n",
       "       3.4 , 6.1 , 2.4 , 9.  , 5.  , 0.5 , 3.8 ])"
      ]
     },
     "execution_count": 35,
     "metadata": {},
     "output_type": "execute_result"
    }
   ],
   "source": [
    "df['serum_creatinine'].unique()"
   ]
  },
  {
   "cell_type": "code",
   "execution_count": 36,
   "metadata": {
    "ExecuteTime": {
     "end_time": "2021-08-31T03:23:58.572487Z",
     "start_time": "2021-08-31T03:23:58.469591Z"
    }
   },
   "outputs": [
    {
     "data": {
      "text/plain": [
       "<AxesSubplot:xlabel='DEATH_EVENT', ylabel='serum_creatinine'>"
      ]
     },
     "execution_count": 36,
     "metadata": {},
     "output_type": "execute_result"
    },
    {
     "data": {
      "image/png": "[encoded data removed]",
      "text/plain": [
       "<Figure size 288x576 with 1 Axes>"
      ]
     },
     "metadata": {
      "needs_background": "light"
     },
     "output_type": "display_data"
    }
   ],
   "source": [
    "plt.figure(figsize=(4,8))\n",
    "sns.boxplot(data=df, x='DEATH_EVENT', y='serum_creatinine')"
   ]
  },
  {
   "cell_type": "code",
   "execution_count": 37,
   "metadata": {
    "ExecuteTime": {
     "end_time": "2021-08-31T03:23:59.077756Z",
     "start_time": "2021-08-31T03:23:58.966914Z"
    }
   },
   "outputs": [
    {
     "data": {
      "text/plain": [
       "<AxesSubplot:xlabel='DEATH_EVENT', ylabel='age'>"
      ]
     },
     "execution_count": 37,
     "metadata": {},
     "output_type": "execute_result"
    },
    {
     "data": {
      "image/png": "[encoded data removed]",
      "text/plain": [
       "<Figure size 864x288 with 1 Axes>"
      ]
     },
     "metadata": {
      "needs_background": "light"
     },
     "output_type": "display_data"
    }
   ],
   "source": [
    "plt.figure(figsize=(12,4))\n",
    "sns.boxplot(data=df, x='DEATH_EVENT', y='age')"
   ]
  },
  {
   "cell_type": "markdown",
   "metadata": {},
   "source": [
    "we can see heart failure is directly corelated with age. Higher the age more chance of heart failure."
   ]
  },
  {
   "cell_type": "code",
   "execution_count": 38,
   "metadata": {
    "ExecuteTime": {
     "end_time": "2021-08-31T03:24:00.151278Z",
     "start_time": "2021-08-31T03:24:00.133343Z"
    }
   },
   "outputs": [
    {
     "data": {
      "text/plain": [
       "array([20, 38, 40, 15, 60, 65, 35, 25, 30, 50, 14, 55, 45, 62, 80, 17, 70],\n",
       "      dtype=int64)"
      ]
     },
     "execution_count": 38,
     "metadata": {},
     "output_type": "execute_result"
    }
   ],
   "source": [
    "df['ejection_fraction'].unique()"
   ]
  },
  {
   "cell_type": "code",
   "execution_count": 39,
   "metadata": {
    "ExecuteTime": {
     "end_time": "2021-08-31T03:24:00.839189Z",
     "start_time": "2021-08-31T03:24:00.726475Z"
    }
   },
   "outputs": [
    {
     "data": {
      "text/plain": [
       "<AxesSubplot:xlabel='DEATH_EVENT', ylabel='ejection_fraction'>"
      ]
     },
     "execution_count": 39,
     "metadata": {},
     "output_type": "execute_result"
    },
    {
     "data": {
      "image/png": "[encoded data removed]",
      "text/plain": [
       "<Figure size 864x288 with 1 Axes>"
      ]
     },
     "metadata": {
      "needs_background": "light"
     },
     "output_type": "display_data"
    }
   ],
   "source": [
    "plt.figure(figsize=(12,4))\n",
    "sns.boxplot(data=df, x='DEATH_EVENT', y='ejection_fraction')"
   ]
  },
  {
   "cell_type": "markdown",
   "metadata": {},
   "source": [
    "we can see heart failure is indirectly corelated with age. Higher the ejection_fraction less chance of heart failure."
   ]
  },
  {
   "cell_type": "code",
   "execution_count": 40,
   "metadata": {
    "ExecuteTime": {
     "end_time": "2021-08-31T03:24:02.352871Z",
     "start_time": "2021-08-31T03:24:02.340879Z"
    }
   },
   "outputs": [
    {
     "data": {
      "text/plain": [
       "Index(['age', 'anaemia', 'creatinine_phosphokinase', 'diabetes',\n",
       "       'ejection_fraction', 'high_blood_pressure', 'platelets',\n",
       "       'serum_creatinine', 'serum_sodium', 'sex', 'smoking', 'DEATH_EVENT'],\n",
       "      dtype='object')"
      ]
     },
     "execution_count": 40,
     "metadata": {},
     "output_type": "execute_result"
    }
   ],
   "source": [
    "df.columns"
   ]
  },
  {
   "cell_type": "code",
   "execution_count": 41,
   "metadata": {
    "ExecuteTime": {
     "end_time": "2021-08-31T03:24:03.185852Z",
     "start_time": "2021-08-31T03:24:03.077916Z"
    }
   },
   "outputs": [
    {
     "data": {
      "text/plain": [
       "<AxesSubplot:xlabel='DEATH_EVENT', ylabel='platelets'>"
      ]
     },
     "execution_count": 41,
     "metadata": {},
     "output_type": "execute_result"
    },
    {
     "data": {
      "image/png": "[encoded data removed]",
      "text/plain": [
       "<Figure size 864x288 with 1 Axes>"
      ]
     },
     "metadata": {
      "needs_background": "light"
     },
     "output_type": "display_data"
    }
   ],
   "source": [
    "plt.figure(figsize=(12,4))\n",
    "sns.boxplot(data=df, x='DEATH_EVENT', y='platelets')"
   ]
  },
  {
   "cell_type": "code",
   "execution_count": 42,
   "metadata": {
    "ExecuteTime": {
     "end_time": "2021-08-31T03:24:03.863112Z",
     "start_time": "2021-08-31T03:24:03.734377Z"
    },
    "scrolled": false
   },
   "outputs": [
    {
     "data": {
      "text/plain": [
       "<AxesSubplot:xlabel='DEATH_EVENT', ylabel='creatinine_phosphokinase'>"
      ]
     },
     "execution_count": 42,
     "metadata": {},
     "output_type": "execute_result"
    },
    {
     "data": {
      "image/png": "[encoded data removed]",
      "text/plain": [
       "<Figure size 288x432 with 1 Axes>"
      ]
     },
     "metadata": {
      "needs_background": "light"
     },
     "output_type": "display_data"
    }
   ],
   "source": [
    "plt.figure(figsize=(4,6))\n",
    "sns.boxplot(data=df, x='DEATH_EVENT', y='creatinine_phosphokinase')"
   ]
  },
  {
   "cell_type": "markdown",
   "metadata": {},
   "source": [
    "Not much variation in above attribute"
   ]
  },
  {
   "cell_type": "code",
   "execution_count": 43,
   "metadata": {
    "ExecuteTime": {
     "end_time": "2021-08-31T03:24:13.426112Z",
     "start_time": "2021-08-31T03:24:12.141548Z"
    }
   },
   "outputs": [
    {
     "data": {
      "text/plain": [
       "<AxesSubplot:>"
      ]
     },
     "execution_count": 43,
     "metadata": {},
     "output_type": "execute_result"
    },
    {
     "data": {
      "image/png": "[encoded data removed]",
      "text/plain": [
       "<Figure size 864x288 with 2 Axes>"
      ]
     },
     "metadata": {
      "needs_background": "light"
     },
     "output_type": "display_data"
    }
   ],
   "source": [
    "plt.figure(figsize=(12,4))\n",
    "sns.heatmap(data=df.corr(), cmap='coolwarm', annot=True)"
   ]
  },
  {
   "cell_type": "markdown",
   "metadata": {},
   "source": [
    "smoking sex platelets diabetes has very low correlation so we can remove it from feature column"
   ]
  },
  {
   "cell_type": "code",
   "execution_count": 44,
   "metadata": {
    "ExecuteTime": {
     "end_time": "2021-08-31T03:24:13.569728Z",
     "start_time": "2021-08-31T03:24:13.459024Z"
    },
    "scrolled": true
   },
   "outputs": [
    {
     "data": {
      "text/plain": [
       "<AxesSubplot:>"
      ]
     },
     "execution_count": 44,
     "metadata": {},
     "output_type": "execute_result"
    },
    {
     "data": {
      "image/png": "[encoded data removed]",
      "text/plain": [
       "<Figure size 432x288 with 1 Axes>"
      ]
     },
     "metadata": {
      "needs_background": "light"
     },
     "output_type": "display_data"
    }
   ],
   "source": [
    "df[\"DEATH_EVENT\"].value_counts().plot.bar()"
   ]
  },
  {
   "cell_type": "code",
   "execution_count": 45,
   "metadata": {
    "ExecuteTime": {
     "end_time": "2021-08-31T03:24:18.444783Z",
     "start_time": "2021-08-31T03:24:18.437802Z"
    }
   },
   "outputs": [
    {
     "data": {
      "text/plain": [
       "0    203\n",
       "1     96\n",
       "Name: DEATH_EVENT, dtype: int64"
      ]
     },
     "execution_count": 45,
     "metadata": {},
     "output_type": "execute_result"
    }
   ],
   "source": [
    "df[\"DEATH_EVENT\"].value_counts()"
   ]
  },
  {
   "cell_type": "markdown",
   "metadata": {},
   "source": [
    "#### Data PreProcessing"
   ]
  },
  {
   "cell_type": "code",
   "execution_count": 46,
   "metadata": {
    "ExecuteTime": {
     "end_time": "2021-08-31T03:24:20.060458Z",
     "start_time": "2021-08-31T03:24:20.053504Z"
    }
   },
   "outputs": [
    {
     "data": {
      "text/plain": [
       "age                         5\n",
       "anaemia                     0\n",
       "creatinine_phosphokinase    0\n",
       "diabetes                    0\n",
       "ejection_fraction           0\n",
       "high_blood_pressure         0\n",
       "platelets                   0\n",
       "serum_creatinine            0\n",
       "serum_sodium                0\n",
       "sex                         4\n",
       "smoking                     4\n",
       "DEATH_EVENT                 0\n",
       "dtype: int64"
      ]
     },
     "execution_count": 46,
     "metadata": {},
     "output_type": "execute_result"
    }
   ],
   "source": [
    "df.isna().sum()"
   ]
  },
  {
   "cell_type": "markdown",
   "metadata": {},
   "source": [
    "age has 5 Null value and sex and smoking has 4 Null value.\\\n",
    "we will replace Null value age value with mean and average and sex smoking with mode.\n",
    "\n",
    "---\n",
    "Mean = the average value (the sum of all values divided by number of values). \\\n",
    "Mode = the value that appears most frequently.\n"
   ]
  },
  {
   "cell_type": "code",
   "execution_count": 49,
   "metadata": {
    "ExecuteTime": {
     "end_time": "2021-08-31T03:33:12.790323Z",
     "start_time": "2021-08-31T03:33:12.782345Z"
    }
   },
   "outputs": [],
   "source": [
    "df[\"age\"].fillna(df[\"age\"].mean(), inplace = True)"
   ]
  },
  {
   "cell_type": "code",
   "execution_count": 52,
   "metadata": {
    "ExecuteTime": {
     "end_time": "2021-08-31T03:35:04.478422Z",
     "start_time": "2021-08-31T03:35:04.470444Z"
    }
   },
   "outputs": [],
   "source": [
    "df[\"sex\"].fillna(df[\"sex\"].mode()[0], inplace = True)\n",
    "df[\"smoking\"].fillna(df[\"smoking\"].mode()[0], inplace = True)"
   ]
  },
  {
   "cell_type": "code",
   "execution_count": 53,
   "metadata": {
    "ExecuteTime": {
     "end_time": "2021-08-31T03:35:14.700823Z",
     "start_time": "2021-08-31T03:35:14.685835Z"
    }
   },
   "outputs": [
    {
     "data": {
      "text/plain": [
       "age                         0\n",
       "anaemia                     0\n",
       "creatinine_phosphokinase    0\n",
       "diabetes                    0\n",
       "ejection_fraction           0\n",
       "high_blood_pressure         0\n",
       "platelets                   0\n",
       "serum_creatinine            0\n",
       "serum_sodium                0\n",
       "sex                         0\n",
       "smoking                     0\n",
       "DEATH_EVENT                 0\n",
       "dtype: int64"
      ]
     },
     "execution_count": 53,
     "metadata": {},
     "output_type": "execute_result"
    }
   ],
   "source": [
    "df.isna().sum()"
   ]
  },
  {
   "cell_type": "markdown",
   "metadata": {},
   "source": [
    "There are no Null values, we are good to go."
   ]
  },
  {
   "cell_type": "markdown",
   "metadata": {
    "papermill": {
     "duration": 0.314162,
     "end_time": "2021-07-14T07:13:00.228582",
     "exception": false,
     "start_time": "2021-07-14T07:12:59.914420",
     "status": "completed"
    },
    "tags": []
   },
   "source": [
    "# **Data Modeling**"
   ]
  },
  {
   "cell_type": "markdown",
   "metadata": {
    "papermill": {
     "duration": 0.320181,
     "end_time": "2021-07-14T07:13:00.864561",
     "exception": false,
     "start_time": "2021-07-14T07:13:00.544380",
     "status": "completed"
    },
    "tags": []
   },
   "source": [
    "**Train Test Split**"
   ]
  },
  {
   "cell_type": "code",
   "execution_count": 54,
   "metadata": {
    "ExecuteTime": {
     "end_time": "2021-08-31T03:36:04.994613Z",
     "start_time": "2021-08-31T03:36:04.973689Z"
    }
   },
   "outputs": [
    {
     "data": {
      "text/html": [
       "<div>\n",
       "<style scoped>\n",
       "    .dataframe tbody tr th:only-of-type {\n",
       "        vertical-align: middle;\n",
       "    }\n",
       "\n",
       "    .dataframe tbody tr th {\n",
       "        vertical-align: top;\n",
       "    }\n",
       "\n",
       "    .dataframe thead th {\n",
       "        text-align: right;\n",
       "    }\n",
       "</style>\n",
       "<table border=\"1\" class=\"dataframe\">\n",
       "  <thead>\n",
       "    <tr style=\"text-align: right;\">\n",
       "      <th></th>\n",
       "      <th>age</th>\n",
       "      <th>anaemia</th>\n",
       "      <th>creatinine_phosphokinase</th>\n",
       "      <th>diabetes</th>\n",
       "      <th>ejection_fraction</th>\n",
       "      <th>high_blood_pressure</th>\n",
       "      <th>platelets</th>\n",
       "      <th>serum_creatinine</th>\n",
       "      <th>serum_sodium</th>\n",
       "      <th>sex</th>\n",
       "      <th>smoking</th>\n",
       "      <th>DEATH_EVENT</th>\n",
       "    </tr>\n",
       "  </thead>\n",
       "  <tbody>\n",
       "    <tr>\n",
       "      <th>0</th>\n",
       "      <td>75.0</td>\n",
       "      <td>0</td>\n",
       "      <td>582</td>\n",
       "      <td>0</td>\n",
       "      <td>20</td>\n",
       "      <td>1</td>\n",
       "      <td>265000.00</td>\n",
       "      <td>1.9</td>\n",
       "      <td>130</td>\n",
       "      <td>1.0</td>\n",
       "      <td>0.0</td>\n",
       "      <td>1</td>\n",
       "    </tr>\n",
       "    <tr>\n",
       "      <th>1</th>\n",
       "      <td>55.0</td>\n",
       "      <td>0</td>\n",
       "      <td>7861</td>\n",
       "      <td>0</td>\n",
       "      <td>38</td>\n",
       "      <td>0</td>\n",
       "      <td>263358.03</td>\n",
       "      <td>1.1</td>\n",
       "      <td>136</td>\n",
       "      <td>1.0</td>\n",
       "      <td>0.0</td>\n",
       "      <td>1</td>\n",
       "    </tr>\n",
       "    <tr>\n",
       "      <th>2</th>\n",
       "      <td>65.0</td>\n",
       "      <td>0</td>\n",
       "      <td>146</td>\n",
       "      <td>0</td>\n",
       "      <td>20</td>\n",
       "      <td>0</td>\n",
       "      <td>162000.00</td>\n",
       "      <td>1.3</td>\n",
       "      <td>129</td>\n",
       "      <td>1.0</td>\n",
       "      <td>1.0</td>\n",
       "      <td>1</td>\n",
       "    </tr>\n",
       "    <tr>\n",
       "      <th>3</th>\n",
       "      <td>50.0</td>\n",
       "      <td>1</td>\n",
       "      <td>111</td>\n",
       "      <td>0</td>\n",
       "      <td>20</td>\n",
       "      <td>0</td>\n",
       "      <td>210000.00</td>\n",
       "      <td>1.9</td>\n",
       "      <td>137</td>\n",
       "      <td>1.0</td>\n",
       "      <td>0.0</td>\n",
       "      <td>1</td>\n",
       "    </tr>\n",
       "    <tr>\n",
       "      <th>4</th>\n",
       "      <td>65.0</td>\n",
       "      <td>1</td>\n",
       "      <td>160</td>\n",
       "      <td>1</td>\n",
       "      <td>20</td>\n",
       "      <td>0</td>\n",
       "      <td>327000.00</td>\n",
       "      <td>2.7</td>\n",
       "      <td>116</td>\n",
       "      <td>0.0</td>\n",
       "      <td>0.0</td>\n",
       "      <td>1</td>\n",
       "    </tr>\n",
       "    <tr>\n",
       "      <th>...</th>\n",
       "      <td>...</td>\n",
       "      <td>...</td>\n",
       "      <td>...</td>\n",
       "      <td>...</td>\n",
       "      <td>...</td>\n",
       "      <td>...</td>\n",
       "      <td>...</td>\n",
       "      <td>...</td>\n",
       "      <td>...</td>\n",
       "      <td>...</td>\n",
       "      <td>...</td>\n",
       "      <td>...</td>\n",
       "    </tr>\n",
       "    <tr>\n",
       "      <th>294</th>\n",
       "      <td>62.0</td>\n",
       "      <td>0</td>\n",
       "      <td>61</td>\n",
       "      <td>1</td>\n",
       "      <td>38</td>\n",
       "      <td>1</td>\n",
       "      <td>155000.00</td>\n",
       "      <td>1.1</td>\n",
       "      <td>143</td>\n",
       "      <td>1.0</td>\n",
       "      <td>1.0</td>\n",
       "      <td>0</td>\n",
       "    </tr>\n",
       "    <tr>\n",
       "      <th>295</th>\n",
       "      <td>55.0</td>\n",
       "      <td>0</td>\n",
       "      <td>1820</td>\n",
       "      <td>0</td>\n",
       "      <td>38</td>\n",
       "      <td>0</td>\n",
       "      <td>270000.00</td>\n",
       "      <td>1.2</td>\n",
       "      <td>139</td>\n",
       "      <td>0.0</td>\n",
       "      <td>0.0</td>\n",
       "      <td>0</td>\n",
       "    </tr>\n",
       "    <tr>\n",
       "      <th>296</th>\n",
       "      <td>45.0</td>\n",
       "      <td>0</td>\n",
       "      <td>2060</td>\n",
       "      <td>1</td>\n",
       "      <td>60</td>\n",
       "      <td>0</td>\n",
       "      <td>742000.00</td>\n",
       "      <td>0.8</td>\n",
       "      <td>138</td>\n",
       "      <td>0.0</td>\n",
       "      <td>0.0</td>\n",
       "      <td>0</td>\n",
       "    </tr>\n",
       "    <tr>\n",
       "      <th>297</th>\n",
       "      <td>45.0</td>\n",
       "      <td>0</td>\n",
       "      <td>2413</td>\n",
       "      <td>0</td>\n",
       "      <td>38</td>\n",
       "      <td>0</td>\n",
       "      <td>140000.00</td>\n",
       "      <td>1.4</td>\n",
       "      <td>140</td>\n",
       "      <td>1.0</td>\n",
       "      <td>1.0</td>\n",
       "      <td>0</td>\n",
       "    </tr>\n",
       "    <tr>\n",
       "      <th>298</th>\n",
       "      <td>50.0</td>\n",
       "      <td>0</td>\n",
       "      <td>196</td>\n",
       "      <td>0</td>\n",
       "      <td>45</td>\n",
       "      <td>0</td>\n",
       "      <td>395000.00</td>\n",
       "      <td>1.6</td>\n",
       "      <td>136</td>\n",
       "      <td>1.0</td>\n",
       "      <td>1.0</td>\n",
       "      <td>0</td>\n",
       "    </tr>\n",
       "  </tbody>\n",
       "</table>\n",
       "<p>299 rows × 12 columns</p>\n",
       "</div>"
      ],
      "text/plain": [
       "      age  anaemia  creatinine_phosphokinase  diabetes  ejection_fraction  \\\n",
       "0    75.0        0                       582         0                 20   \n",
       "1    55.0        0                      7861         0                 38   \n",
       "2    65.0        0                       146         0                 20   \n",
       "3    50.0        1                       111         0                 20   \n",
       "4    65.0        1                       160         1                 20   \n",
       "..    ...      ...                       ...       ...                ...   \n",
       "294  62.0        0                        61         1                 38   \n",
       "295  55.0        0                      1820         0                 38   \n",
       "296  45.0        0                      2060         1                 60   \n",
       "297  45.0        0                      2413         0                 38   \n",
       "298  50.0        0                       196         0                 45   \n",
       "\n",
       "     high_blood_pressure  platelets  serum_creatinine  serum_sodium  sex  \\\n",
       "0                      1  265000.00               1.9           130  1.0   \n",
       "1                      0  263358.03               1.1           136  1.0   \n",
       "2                      0  162000.00               1.3           129  1.0   \n",
       "3                      0  210000.00               1.9           137  1.0   \n",
       "4                      0  327000.00               2.7           116  0.0   \n",
       "..                   ...        ...               ...           ...  ...   \n",
       "294                    1  155000.00               1.1           143  1.0   \n",
       "295                    0  270000.00               1.2           139  0.0   \n",
       "296                    0  742000.00               0.8           138  0.0   \n",
       "297                    0  140000.00               1.4           140  1.0   \n",
       "298                    0  395000.00               1.6           136  1.0   \n",
       "\n",
       "     smoking  DEATH_EVENT  \n",
       "0        0.0            1  \n",
       "1        0.0            1  \n",
       "2        1.0            1  \n",
       "3        0.0            1  \n",
       "4        0.0            1  \n",
       "..       ...          ...  \n",
       "294      1.0            0  \n",
       "295      0.0            0  \n",
       "296      0.0            0  \n",
       "297      1.0            0  \n",
       "298      1.0            0  \n",
       "\n",
       "[299 rows x 12 columns]"
      ]
     },
     "execution_count": 54,
     "metadata": {},
     "output_type": "execute_result"
    }
   ],
   "source": [
    "df"
   ]
  },
  {
   "cell_type": "code",
   "execution_count": 86,
   "metadata": {
    "ExecuteTime": {
     "end_time": "2021-08-31T04:43:53.114938Z",
     "start_time": "2021-08-31T04:43:53.095965Z"
    }
   },
   "outputs": [
    {
     "data": {
      "text/html": [
       "<div>\n",
       "<style scoped>\n",
       "    .dataframe tbody tr th:only-of-type {\n",
       "        vertical-align: middle;\n",
       "    }\n",
       "\n",
       "    .dataframe tbody tr th {\n",
       "        vertical-align: top;\n",
       "    }\n",
       "\n",
       "    .dataframe thead th {\n",
       "        text-align: right;\n",
       "    }\n",
       "</style>\n",
       "<table border=\"1\" class=\"dataframe\">\n",
       "  <thead>\n",
       "    <tr style=\"text-align: right;\">\n",
       "      <th></th>\n",
       "      <th>age</th>\n",
       "      <th>anaemia</th>\n",
       "      <th>creatinine_phosphokinase</th>\n",
       "      <th>ejection_fraction</th>\n",
       "      <th>high_blood_pressure</th>\n",
       "      <th>serum_creatinine</th>\n",
       "      <th>serum_sodium</th>\n",
       "    </tr>\n",
       "  </thead>\n",
       "  <tbody>\n",
       "    <tr>\n",
       "      <th>0</th>\n",
       "      <td>75.0</td>\n",
       "      <td>0</td>\n",
       "      <td>582</td>\n",
       "      <td>20</td>\n",
       "      <td>1</td>\n",
       "      <td>1.9</td>\n",
       "      <td>130</td>\n",
       "    </tr>\n",
       "    <tr>\n",
       "      <th>1</th>\n",
       "      <td>55.0</td>\n",
       "      <td>0</td>\n",
       "      <td>7861</td>\n",
       "      <td>38</td>\n",
       "      <td>0</td>\n",
       "      <td>1.1</td>\n",
       "      <td>136</td>\n",
       "    </tr>\n",
       "    <tr>\n",
       "      <th>2</th>\n",
       "      <td>65.0</td>\n",
       "      <td>0</td>\n",
       "      <td>146</td>\n",
       "      <td>20</td>\n",
       "      <td>0</td>\n",
       "      <td>1.3</td>\n",
       "      <td>129</td>\n",
       "    </tr>\n",
       "    <tr>\n",
       "      <th>3</th>\n",
       "      <td>50.0</td>\n",
       "      <td>1</td>\n",
       "      <td>111</td>\n",
       "      <td>20</td>\n",
       "      <td>0</td>\n",
       "      <td>1.9</td>\n",
       "      <td>137</td>\n",
       "    </tr>\n",
       "    <tr>\n",
       "      <th>4</th>\n",
       "      <td>65.0</td>\n",
       "      <td>1</td>\n",
       "      <td>160</td>\n",
       "      <td>20</td>\n",
       "      <td>0</td>\n",
       "      <td>2.7</td>\n",
       "      <td>116</td>\n",
       "    </tr>\n",
       "    <tr>\n",
       "      <th>...</th>\n",
       "      <td>...</td>\n",
       "      <td>...</td>\n",
       "      <td>...</td>\n",
       "      <td>...</td>\n",
       "      <td>...</td>\n",
       "      <td>...</td>\n",
       "      <td>...</td>\n",
       "    </tr>\n",
       "    <tr>\n",
       "      <th>294</th>\n",
       "      <td>62.0</td>\n",
       "      <td>0</td>\n",
       "      <td>61</td>\n",
       "      <td>38</td>\n",
       "      <td>1</td>\n",
       "      <td>1.1</td>\n",
       "      <td>143</td>\n",
       "    </tr>\n",
       "    <tr>\n",
       "      <th>295</th>\n",
       "      <td>55.0</td>\n",
       "      <td>0</td>\n",
       "      <td>1820</td>\n",
       "      <td>38</td>\n",
       "      <td>0</td>\n",
       "      <td>1.2</td>\n",
       "      <td>139</td>\n",
       "    </tr>\n",
       "    <tr>\n",
       "      <th>296</th>\n",
       "      <td>45.0</td>\n",
       "      <td>0</td>\n",
       "      <td>2060</td>\n",
       "      <td>60</td>\n",
       "      <td>0</td>\n",
       "      <td>0.8</td>\n",
       "      <td>138</td>\n",
       "    </tr>\n",
       "    <tr>\n",
       "      <th>297</th>\n",
       "      <td>45.0</td>\n",
       "      <td>0</td>\n",
       "      <td>2413</td>\n",
       "      <td>38</td>\n",
       "      <td>0</td>\n",
       "      <td>1.4</td>\n",
       "      <td>140</td>\n",
       "    </tr>\n",
       "    <tr>\n",
       "      <th>298</th>\n",
       "      <td>50.0</td>\n",
       "      <td>0</td>\n",
       "      <td>196</td>\n",
       "      <td>45</td>\n",
       "      <td>0</td>\n",
       "      <td>1.6</td>\n",
       "      <td>136</td>\n",
       "    </tr>\n",
       "  </tbody>\n",
       "</table>\n",
       "<p>299 rows × 7 columns</p>\n",
       "</div>"
      ],
      "text/plain": [
       "      age  anaemia  creatinine_phosphokinase  ejection_fraction  \\\n",
       "0    75.0        0                       582                 20   \n",
       "1    55.0        0                      7861                 38   \n",
       "2    65.0        0                       146                 20   \n",
       "3    50.0        1                       111                 20   \n",
       "4    65.0        1                       160                 20   \n",
       "..    ...      ...                       ...                ...   \n",
       "294  62.0        0                        61                 38   \n",
       "295  55.0        0                      1820                 38   \n",
       "296  45.0        0                      2060                 60   \n",
       "297  45.0        0                      2413                 38   \n",
       "298  50.0        0                       196                 45   \n",
       "\n",
       "     high_blood_pressure  serum_creatinine  serum_sodium  \n",
       "0                      1               1.9           130  \n",
       "1                      0               1.1           136  \n",
       "2                      0               1.3           129  \n",
       "3                      0               1.9           137  \n",
       "4                      0               2.7           116  \n",
       "..                   ...               ...           ...  \n",
       "294                    1               1.1           143  \n",
       "295                    0               1.2           139  \n",
       "296                    0               0.8           138  \n",
       "297                    0               1.4           140  \n",
       "298                    0               1.6           136  \n",
       "\n",
       "[299 rows x 7 columns]"
      ]
     },
     "execution_count": 86,
     "metadata": {},
     "output_type": "execute_result"
    }
   ],
   "source": [
    "# neglecting alll features with low corelation\n",
    "Features = ['age','anaemia','creatinine_phosphokinase','ejection_fraction','high_blood_pressure','serum_creatinine','serum_sodium'] \n",
    "x = df[Features]\n",
    "y = df['DEATH_EVENT']\n",
    "x"
   ]
  },
  {
   "cell_type": "markdown",
   "metadata": {},
   "source": [
    "there is high fluctuation in value so we need to normalize them."
   ]
  },
  {
   "cell_type": "code",
   "execution_count": 87,
   "metadata": {
    "ExecuteTime": {
     "end_time": "2021-08-31T04:43:55.815704Z",
     "start_time": "2021-08-31T04:43:55.798748Z"
    }
   },
   "outputs": [
    {
     "name": "stderr",
     "output_type": "stream",
     "text": [
      "C:\\ProgramData\\Anaconda3\\lib\\site-packages\\pandas\\core\\frame.py:3065: SettingWithCopyWarning: \n",
      "A value is trying to be set on a copy of a slice from a DataFrame.\n",
      "Try using .loc[row_indexer,col_indexer] = value instead\n",
      "\n",
      "See the caveats in the documentation: https://pandas.pydata.org/pandas-docs/stable/user_guide/indexing.html#returning-a-view-versus-a-copy\n",
      "  self[k1] = value[k2]\n"
     ]
    },
    {
     "data": {
      "text/html": [
       "<div>\n",
       "<style scoped>\n",
       "    .dataframe tbody tr th:only-of-type {\n",
       "        vertical-align: middle;\n",
       "    }\n",
       "\n",
       "    .dataframe tbody tr th {\n",
       "        vertical-align: top;\n",
       "    }\n",
       "\n",
       "    .dataframe thead th {\n",
       "        text-align: right;\n",
       "    }\n",
       "</style>\n",
       "<table border=\"1\" class=\"dataframe\">\n",
       "  <thead>\n",
       "    <tr style=\"text-align: right;\">\n",
       "      <th></th>\n",
       "      <th>age</th>\n",
       "      <th>anaemia</th>\n",
       "      <th>creatinine_phosphokinase</th>\n",
       "      <th>ejection_fraction</th>\n",
       "      <th>high_blood_pressure</th>\n",
       "      <th>serum_creatinine</th>\n",
       "      <th>serum_sodium</th>\n",
       "    </tr>\n",
       "  </thead>\n",
       "  <tbody>\n",
       "    <tr>\n",
       "      <th>0</th>\n",
       "      <td>0.124714</td>\n",
       "      <td>0</td>\n",
       "      <td>0.967781</td>\n",
       "      <td>0.033257</td>\n",
       "      <td>1</td>\n",
       "      <td>0.003159</td>\n",
       "      <td>0.216171</td>\n",
       "    </tr>\n",
       "    <tr>\n",
       "      <th>1</th>\n",
       "      <td>0.006995</td>\n",
       "      <td>0</td>\n",
       "      <td>0.999814</td>\n",
       "      <td>0.004833</td>\n",
       "      <td>0</td>\n",
       "      <td>0.000140</td>\n",
       "      <td>0.017297</td>\n",
       "    </tr>\n",
       "    <tr>\n",
       "      <th>2</th>\n",
       "      <td>0.314986</td>\n",
       "      <td>0</td>\n",
       "      <td>0.707508</td>\n",
       "      <td>0.096919</td>\n",
       "      <td>0</td>\n",
       "      <td>0.006300</td>\n",
       "      <td>0.625127</td>\n",
       "    </tr>\n",
       "    <tr>\n",
       "      <th>3</th>\n",
       "      <td>0.271189</td>\n",
       "      <td>1</td>\n",
       "      <td>0.602039</td>\n",
       "      <td>0.108475</td>\n",
       "      <td>0</td>\n",
       "      <td>0.010305</td>\n",
       "      <td>0.743057</td>\n",
       "    </tr>\n",
       "    <tr>\n",
       "      <th>4</th>\n",
       "      <td>0.310979</td>\n",
       "      <td>1</td>\n",
       "      <td>0.765486</td>\n",
       "      <td>0.095686</td>\n",
       "      <td>0</td>\n",
       "      <td>0.012918</td>\n",
       "      <td>0.554978</td>\n",
       "    </tr>\n",
       "    <tr>\n",
       "      <th>...</th>\n",
       "      <td>...</td>\n",
       "      <td>...</td>\n",
       "      <td>...</td>\n",
       "      <td>...</td>\n",
       "      <td>...</td>\n",
       "      <td>...</td>\n",
       "      <td>...</td>\n",
       "    </tr>\n",
       "    <tr>\n",
       "      <th>294</th>\n",
       "      <td>0.361228</td>\n",
       "      <td>0</td>\n",
       "      <td>0.355402</td>\n",
       "      <td>0.221398</td>\n",
       "      <td>1</td>\n",
       "      <td>0.006409</td>\n",
       "      <td>0.833154</td>\n",
       "    </tr>\n",
       "    <tr>\n",
       "      <th>295</th>\n",
       "      <td>0.030112</td>\n",
       "      <td>0</td>\n",
       "      <td>0.996428</td>\n",
       "      <td>0.020805</td>\n",
       "      <td>0</td>\n",
       "      <td>0.000657</td>\n",
       "      <td>0.076101</td>\n",
       "    </tr>\n",
       "    <tr>\n",
       "      <th>296</th>\n",
       "      <td>0.021781</td>\n",
       "      <td>0</td>\n",
       "      <td>0.997106</td>\n",
       "      <td>0.029042</td>\n",
       "      <td>0</td>\n",
       "      <td>0.000387</td>\n",
       "      <td>0.066796</td>\n",
       "    </tr>\n",
       "    <tr>\n",
       "      <th>297</th>\n",
       "      <td>0.018612</td>\n",
       "      <td>0</td>\n",
       "      <td>0.998025</td>\n",
       "      <td>0.015717</td>\n",
       "      <td>0</td>\n",
       "      <td>0.000579</td>\n",
       "      <td>0.057904</td>\n",
       "    </tr>\n",
       "    <tr>\n",
       "      <th>298</th>\n",
       "      <td>0.201719</td>\n",
       "      <td>0</td>\n",
       "      <td>0.790737</td>\n",
       "      <td>0.181547</td>\n",
       "      <td>0</td>\n",
       "      <td>0.006455</td>\n",
       "      <td>0.548675</td>\n",
       "    </tr>\n",
       "  </tbody>\n",
       "</table>\n",
       "<p>299 rows × 7 columns</p>\n",
       "</div>"
      ],
      "text/plain": [
       "          age  anaemia  creatinine_phosphokinase  ejection_fraction  \\\n",
       "0    0.124714        0                  0.967781           0.033257   \n",
       "1    0.006995        0                  0.999814           0.004833   \n",
       "2    0.314986        0                  0.707508           0.096919   \n",
       "3    0.271189        1                  0.602039           0.108475   \n",
       "4    0.310979        1                  0.765486           0.095686   \n",
       "..        ...      ...                       ...                ...   \n",
       "294  0.361228        0                  0.355402           0.221398   \n",
       "295  0.030112        0                  0.996428           0.020805   \n",
       "296  0.021781        0                  0.997106           0.029042   \n",
       "297  0.018612        0                  0.998025           0.015717   \n",
       "298  0.201719        0                  0.790737           0.181547   \n",
       "\n",
       "     high_blood_pressure  serum_creatinine  serum_sodium  \n",
       "0                      1          0.003159      0.216171  \n",
       "1                      0          0.000140      0.017297  \n",
       "2                      0          0.006300      0.625127  \n",
       "3                      0          0.010305      0.743057  \n",
       "4                      0          0.012918      0.554978  \n",
       "..                   ...               ...           ...  \n",
       "294                    1          0.006409      0.833154  \n",
       "295                    0          0.000657      0.076101  \n",
       "296                    0          0.000387      0.066796  \n",
       "297                    0          0.000579      0.057904  \n",
       "298                    0          0.006455      0.548675  \n",
       "\n",
       "[299 rows x 7 columns]"
      ]
     },
     "execution_count": 87,
     "metadata": {},
     "output_type": "execute_result"
    }
   ],
   "source": [
    "column_to_normalize  = ['age','creatinine_phosphokinase','ejection_fraction','serum_creatinine','serum_sodium']  \n",
    "x_to_normalize = x[column_to_normalize].values #returns a numpy array\n",
    "min_max_scaler = preprocessing.Normalizer()\n",
    "x_scaled = min_max_scaler.fit_transform(x_to_normalize)\n",
    "x[column_to_normalize] = pd.DataFrame(x_scaled)\n",
    "x"
   ]
  },
  {
   "cell_type": "code",
   "execution_count": 88,
   "metadata": {
    "ExecuteTime": {
     "end_time": "2021-08-31T04:43:59.925792Z",
     "start_time": "2021-08-31T04:43:59.894875Z"
    }
   },
   "outputs": [
    {
     "data": {
      "text/html": [
       "<div>\n",
       "<style scoped>\n",
       "    .dataframe tbody tr th:only-of-type {\n",
       "        vertical-align: middle;\n",
       "    }\n",
       "\n",
       "    .dataframe tbody tr th {\n",
       "        vertical-align: top;\n",
       "    }\n",
       "\n",
       "    .dataframe thead th {\n",
       "        text-align: right;\n",
       "    }\n",
       "</style>\n",
       "<table border=\"1\" class=\"dataframe\">\n",
       "  <thead>\n",
       "    <tr style=\"text-align: right;\">\n",
       "      <th></th>\n",
       "      <th>age</th>\n",
       "      <th>anaemia</th>\n",
       "      <th>creatinine_phosphokinase</th>\n",
       "      <th>ejection_fraction</th>\n",
       "      <th>high_blood_pressure</th>\n",
       "      <th>serum_creatinine</th>\n",
       "      <th>serum_sodium</th>\n",
       "    </tr>\n",
       "  </thead>\n",
       "  <tbody>\n",
       "    <tr>\n",
       "      <th>count</th>\n",
       "      <td>299.000000</td>\n",
       "      <td>299.000000</td>\n",
       "      <td>299.000000</td>\n",
       "      <td>299.000000</td>\n",
       "      <td>299.000000</td>\n",
       "      <td>299.000000</td>\n",
       "      <td>299.000000</td>\n",
       "    </tr>\n",
       "    <tr>\n",
       "      <th>mean</th>\n",
       "      <td>0.202221</td>\n",
       "      <td>0.431438</td>\n",
       "      <td>0.771680</td>\n",
       "      <td>0.126656</td>\n",
       "      <td>0.351171</td>\n",
       "      <td>0.004706</td>\n",
       "      <td>0.451260</td>\n",
       "    </tr>\n",
       "    <tr>\n",
       "      <th>std</th>\n",
       "      <td>0.125840</td>\n",
       "      <td>0.496107</td>\n",
       "      <td>0.227048</td>\n",
       "      <td>0.087551</td>\n",
       "      <td>0.478136</td>\n",
       "      <td>0.005097</td>\n",
       "      <td>0.263291</td>\n",
       "    </tr>\n",
       "    <tr>\n",
       "      <th>min</th>\n",
       "      <td>0.005842</td>\n",
       "      <td>0.000000</td>\n",
       "      <td>0.139427</td>\n",
       "      <td>0.003245</td>\n",
       "      <td>0.000000</td>\n",
       "      <td>0.000130</td>\n",
       "      <td>0.017297</td>\n",
       "    </tr>\n",
       "    <tr>\n",
       "      <th>25%</th>\n",
       "      <td>0.089051</td>\n",
       "      <td>0.000000</td>\n",
       "      <td>0.599434</td>\n",
       "      <td>0.054642</td>\n",
       "      <td>0.000000</td>\n",
       "      <td>0.001708</td>\n",
       "      <td>0.222426</td>\n",
       "    </tr>\n",
       "    <tr>\n",
       "      <th>50%</th>\n",
       "      <td>0.200761</td>\n",
       "      <td>0.000000</td>\n",
       "      <td>0.859926</td>\n",
       "      <td>0.108078</td>\n",
       "      <td>0.000000</td>\n",
       "      <td>0.003817</td>\n",
       "      <td>0.467518</td>\n",
       "    </tr>\n",
       "    <tr>\n",
       "      <th>75%</th>\n",
       "      <td>0.303501</td>\n",
       "      <td>1.000000</td>\n",
       "      <td>0.968451</td>\n",
       "      <td>0.187698</td>\n",
       "      <td>1.000000</td>\n",
       "      <td>0.005659</td>\n",
       "      <td>0.700130</td>\n",
       "    </tr>\n",
       "    <tr>\n",
       "      <th>max</th>\n",
       "      <td>0.525450</td>\n",
       "      <td>1.000000</td>\n",
       "      <td>0.999815</td>\n",
       "      <td>0.360728</td>\n",
       "      <td>1.000000</td>\n",
       "      <td>0.046691</td>\n",
       "      <td>0.869932</td>\n",
       "    </tr>\n",
       "  </tbody>\n",
       "</table>\n",
       "</div>"
      ],
      "text/plain": [
       "              age     anaemia  creatinine_phosphokinase  ejection_fraction  \\\n",
       "count  299.000000  299.000000                299.000000         299.000000   \n",
       "mean     0.202221    0.431438                  0.771680           0.126656   \n",
       "std      0.125840    0.496107                  0.227048           0.087551   \n",
       "min      0.005842    0.000000                  0.139427           0.003245   \n",
       "25%      0.089051    0.000000                  0.599434           0.054642   \n",
       "50%      0.200761    0.000000                  0.859926           0.108078   \n",
       "75%      0.303501    1.000000                  0.968451           0.187698   \n",
       "max      0.525450    1.000000                  0.999815           0.360728   \n",
       "\n",
       "       high_blood_pressure  serum_creatinine  serum_sodium  \n",
       "count           299.000000        299.000000    299.000000  \n",
       "mean              0.351171          0.004706      0.451260  \n",
       "std               0.478136          0.005097      0.263291  \n",
       "min               0.000000          0.000130      0.017297  \n",
       "25%               0.000000          0.001708      0.222426  \n",
       "50%               0.000000          0.003817      0.467518  \n",
       "75%               1.000000          0.005659      0.700130  \n",
       "max               1.000000          0.046691      0.869932  "
      ]
     },
     "execution_count": 88,
     "metadata": {},
     "output_type": "execute_result"
    }
   ],
   "source": [
    "x.describe()"
   ]
  },
  {
   "cell_type": "markdown",
   "metadata": {},
   "source": [
    "now range of all value is between 0 and 1."
   ]
  },
  {
   "cell_type": "code",
   "execution_count": 89,
   "metadata": {
    "ExecuteTime": {
     "end_time": "2021-08-31T04:44:24.728529Z",
     "start_time": "2021-08-31T04:44:24.703596Z"
    },
    "execution": {
     "iopub.execute_input": "2021-07-14T07:13:01.513248Z",
     "iopub.status.busy": "2021-07-14T07:13:01.511328Z",
     "iopub.status.idle": "2021-07-14T07:13:01.515650Z",
     "shell.execute_reply": "2021-07-14T07:13:01.516150Z",
     "shell.execute_reply.started": "2021-07-14T07:11:48.922893Z"
    },
    "papermill": {
     "duration": 0.326896,
     "end_time": "2021-07-14T07:13:01.516291",
     "exception": false,
     "start_time": "2021-07-14T07:13:01.189395",
     "status": "completed"
    },
    "tags": []
   },
   "outputs": [],
   "source": [
    "x_train,x_test,y_train,y_test = train_test_split(x,y, test_size=0.2, random_state=2)"
   ]
  },
  {
   "cell_type": "code",
   "execution_count": 90,
   "metadata": {
    "ExecuteTime": {
     "end_time": "2021-08-31T04:44:29.582588Z",
     "start_time": "2021-08-31T04:44:29.567628Z"
    },
    "execution": {
     "iopub.execute_input": "2021-07-14T07:13:02.201297Z",
     "iopub.status.busy": "2021-07-14T07:13:02.200636Z",
     "iopub.status.idle": "2021-07-14T07:13:02.204358Z",
     "shell.execute_reply": "2021-07-14T07:13:02.204839Z",
     "shell.execute_reply.started": "2021-07-14T07:11:48.934838Z"
    },
    "papermill": {
     "duration": 0.32556,
     "end_time": "2021-07-14T07:13:02.204982",
     "exception": false,
     "start_time": "2021-07-14T07:13:01.879422",
     "status": "completed"
    },
    "tags": []
   },
   "outputs": [],
   "source": [
    "accuracy_list = []"
   ]
  },
  {
   "cell_type": "markdown",
   "metadata": {
    "papermill": {
     "duration": 0.316071,
     "end_time": "2021-07-14T07:13:02.835888",
     "exception": false,
     "start_time": "2021-07-14T07:13:02.519817",
     "status": "completed"
    },
    "tags": []
   },
   "source": [
    "**Logistic Regression**"
   ]
  },
  {
   "cell_type": "code",
   "execution_count": 91,
   "metadata": {
    "ExecuteTime": {
     "end_time": "2021-08-31T04:44:38.845039Z",
     "start_time": "2021-08-31T04:44:38.774728Z"
    },
    "execution": {
     "iopub.execute_input": "2021-07-14T07:13:03.473348Z",
     "iopub.status.busy": "2021-07-14T07:13:03.472644Z",
     "iopub.status.idle": "2021-07-14T07:13:03.494383Z",
     "shell.execute_reply": "2021-07-14T07:13:03.493784Z",
     "shell.execute_reply.started": "2021-07-14T07:11:48.946875Z"
    },
    "papermill": {
     "duration": 0.341096,
     "end_time": "2021-07-14T07:13:03.494529",
     "exception": false,
     "start_time": "2021-07-14T07:13:03.153433",
     "status": "completed"
    },
    "tags": []
   },
   "outputs": [],
   "source": [
    "# logistic regression\n",
    "\n",
    "log_reg = LogisticRegression()\n",
    "log_reg.fit(x_train, y_train)\n",
    "log_reg_pred = log_reg.predict(x_test)\n",
    "log_reg_acc = accuracy_score(y_test, log_reg_pred)\n",
    "accuracy_list.append(100*log_reg_acc)"
   ]
  },
  {
   "cell_type": "code",
   "execution_count": 92,
   "metadata": {
    "ExecuteTime": {
     "end_time": "2021-08-31T04:44:39.904852Z",
     "start_time": "2021-08-31T04:44:39.886873Z"
    },
    "execution": {
     "iopub.execute_input": "2021-07-14T07:13:04.189234Z",
     "iopub.status.busy": "2021-07-14T07:13:04.188329Z",
     "iopub.status.idle": "2021-07-14T07:13:04.192435Z",
     "shell.execute_reply": "2021-07-14T07:13:04.191676Z",
     "shell.execute_reply.started": "2021-07-14T07:11:48.980734Z"
    },
    "papermill": {
     "duration": 0.326505,
     "end_time": "2021-07-14T07:13:04.192597",
     "exception": false,
     "start_time": "2021-07-14T07:13:03.866092",
     "status": "completed"
    },
    "tags": []
   },
   "outputs": [
    {
     "name": "stdout",
     "output_type": "stream",
     "text": [
      "\u001b[32mAccuracy of Logistic Regression is :  71.67%\n"
     ]
    }
   ],
   "source": [
    "print(Fore.GREEN + \"Accuracy of Logistic Regression is : \", \"{:.2f}%\".format(100* log_reg_acc))"
   ]
  },
  {
   "cell_type": "code",
   "execution_count": 93,
   "metadata": {
    "ExecuteTime": {
     "end_time": "2021-08-31T04:44:52.949862Z",
     "start_time": "2021-08-31T04:44:52.927923Z"
    },
    "execution": {
     "iopub.execute_input": "2021-07-14T07:13:04.841485Z",
     "iopub.status.busy": "2021-07-14T07:13:04.835756Z",
     "iopub.status.idle": "2021-07-14T07:13:04.957382Z",
     "shell.execute_reply": "2021-07-14T07:13:04.957816Z",
     "shell.execute_reply.started": "2021-07-14T07:11:48.993134Z"
    },
    "papermill": {
     "duration": 0.449575,
     "end_time": "2021-07-14T07:13:04.957969",
     "exception": false,
     "start_time": "2021-07-14T07:13:04.508394",
     "status": "completed"
    },
    "tags": []
   },
   "outputs": [
    {
     "ename": "NameError",
     "evalue": "name 'plot_confusion_matrix' is not defined",
     "output_type": "error",
     "traceback": [
      "\u001b[1;31m---------------------------------------------------------------------------\u001b[0m",
      "\u001b[1;31mNameError\u001b[0m                                 Traceback (most recent call last)",
      "\u001b[1;32m<ipython-input-93-717eeb226466>\u001b[0m in \u001b[0;36m<module>\u001b[1;34m\u001b[0m\n\u001b[0;32m      1\u001b[0m \u001b[0mcm\u001b[0m \u001b[1;33m=\u001b[0m \u001b[0mconfusion_matrix\u001b[0m\u001b[1;33m(\u001b[0m\u001b[0my_test\u001b[0m\u001b[1;33m,\u001b[0m \u001b[0mlog_reg_pred\u001b[0m\u001b[1;33m)\u001b[0m\u001b[1;33m\u001b[0m\u001b[1;33m\u001b[0m\u001b[0m\n\u001b[0;32m      2\u001b[0m \u001b[0mplt\u001b[0m\u001b[1;33m.\u001b[0m\u001b[0mfigure\u001b[0m\u001b[1;33m(\u001b[0m\u001b[1;33m)\u001b[0m\u001b[1;33m\u001b[0m\u001b[1;33m\u001b[0m\u001b[0m\n\u001b[1;32m----> 3\u001b[1;33m \u001b[0mplot_confusion_matrix\u001b[0m\u001b[1;33m(\u001b[0m\u001b[0mcm\u001b[0m\u001b[1;33m,\u001b[0m \u001b[0mfigsize\u001b[0m\u001b[1;33m=\u001b[0m\u001b[1;33m(\u001b[0m\u001b[1;36m12\u001b[0m\u001b[1;33m,\u001b[0m\u001b[1;36m8\u001b[0m\u001b[1;33m)\u001b[0m\u001b[1;33m,\u001b[0m \u001b[0mhide_ticks\u001b[0m\u001b[1;33m=\u001b[0m\u001b[1;32mTrue\u001b[0m\u001b[1;33m,\u001b[0m \u001b[0mcmap\u001b[0m\u001b[1;33m=\u001b[0m\u001b[0mplt\u001b[0m\u001b[1;33m.\u001b[0m\u001b[0mcm\u001b[0m\u001b[1;33m.\u001b[0m\u001b[0mBlues\u001b[0m\u001b[1;33m)\u001b[0m\u001b[1;33m\u001b[0m\u001b[1;33m\u001b[0m\u001b[0m\n\u001b[0m\u001b[0;32m      4\u001b[0m \u001b[0mplt\u001b[0m\u001b[1;33m.\u001b[0m\u001b[0mtitle\u001b[0m\u001b[1;33m(\u001b[0m\u001b[1;34m\"Logistic Regression Model - Confusion Matrix\"\u001b[0m\u001b[1;33m)\u001b[0m\u001b[1;33m\u001b[0m\u001b[1;33m\u001b[0m\u001b[0m\n\u001b[0;32m      5\u001b[0m \u001b[0mplt\u001b[0m\u001b[1;33m.\u001b[0m\u001b[0mxticks\u001b[0m\u001b[1;33m(\u001b[0m\u001b[0mrange\u001b[0m\u001b[1;33m(\u001b[0m\u001b[1;36m2\u001b[0m\u001b[1;33m)\u001b[0m\u001b[1;33m,\u001b[0m \u001b[1;33m[\u001b[0m\u001b[1;34m\"Heart Not Failed\"\u001b[0m\u001b[1;33m,\u001b[0m\u001b[1;34m\"Heart Fail\"\u001b[0m\u001b[1;33m]\u001b[0m\u001b[1;33m,\u001b[0m \u001b[0mfontsize\u001b[0m\u001b[1;33m=\u001b[0m\u001b[1;36m16\u001b[0m\u001b[1;33m)\u001b[0m\u001b[1;33m\u001b[0m\u001b[1;33m\u001b[0m\u001b[0m\n",
      "\u001b[1;31mNameError\u001b[0m: name 'plot_confusion_matrix' is not defined"
     ]
    },
    {
     "data": {
      "text/plain": [
       "<Figure size 432x288 with 0 Axes>"
      ]
     },
     "metadata": {},
     "output_type": "display_data"
    }
   ],
   "source": [
    "cm = confusion_matrix(y_test, log_reg_pred)\n",
    "plt.figure()\n",
    "plot_confusion_matrix(cm, figsize=(12,8), hide_ticks=True, cmap=plt.cm.Blues)\n",
    "plt.title(\"Logistic Regression Model - Confusion Matrix\")\n",
    "plt.xticks(range(2), [\"Heart Not Failed\",\"Heart Fail\"], fontsize=16)\n",
    "plt.yticks(range(2), [\"Heart Not Failed\",\"Heart Fail\"], fontsize=16)\n",
    "plt.show()"
   ]
  },
  {
   "cell_type": "markdown",
   "metadata": {
    "papermill": {
     "duration": 0.36405,
     "end_time": "2021-07-14T07:13:05.643267",
     "exception": false,
     "start_time": "2021-07-14T07:13:05.279217",
     "status": "completed"
    },
    "tags": []
   },
   "source": [
    "**Support Vector**"
   ]
  },
  {
   "cell_type": "code",
   "execution_count": 37,
   "metadata": {
    "execution": {
     "iopub.execute_input": "2021-07-14T07:13:06.290196Z",
     "iopub.status.busy": "2021-07-14T07:13:06.289513Z",
     "iopub.status.idle": "2021-07-14T07:13:06.297373Z",
     "shell.execute_reply": "2021-07-14T07:13:06.296758Z",
     "shell.execute_reply.started": "2021-07-14T07:11:49.148136Z"
    },
    "papermill": {
     "duration": 0.333116,
     "end_time": "2021-07-14T07:13:06.297500",
     "exception": false,
     "start_time": "2021-07-14T07:13:05.964384",
     "status": "completed"
    },
    "tags": []
   },
   "outputs": [],
   "source": [
    "# svc\n",
    "\n",
    "sv_clf = SVC()\n",
    "sv_clf.fit(x_train, y_train)\n",
    "sv_clf_pred = sv_clf.predict(x_test)\n",
    "sv_clf_acc = accuracy_score(y_test, sv_clf_pred)\n",
    "accuracy_list.append(100* sv_clf_acc)"
   ]
  },
  {
   "cell_type": "code",
   "execution_count": 38,
   "metadata": {
    "execution": {
     "iopub.execute_input": "2021-07-14T07:13:06.933747Z",
     "iopub.status.busy": "2021-07-14T07:13:06.933145Z",
     "iopub.status.idle": "2021-07-14T07:13:06.935650Z",
     "shell.execute_reply": "2021-07-14T07:13:06.936239Z",
     "shell.execute_reply.started": "2021-07-14T07:11:49.166613Z"
    },
    "papermill": {
     "duration": 0.326581,
     "end_time": "2021-07-14T07:13:06.936386",
     "exception": false,
     "start_time": "2021-07-14T07:13:06.609805",
     "status": "completed"
    },
    "tags": []
   },
   "outputs": [
    {
     "name": "stdout",
     "output_type": "stream",
     "text": [
      "\u001b[32mAccuracy of SVC is :  90.00%\n"
     ]
    }
   ],
   "source": [
    "print(Fore.GREEN + \"Accuracy of SVC is : \", \"{:.2f}%\".format(100* sv_clf_acc))"
   ]
  },
  {
   "cell_type": "code",
   "execution_count": 39,
   "metadata": {
    "execution": {
     "iopub.execute_input": "2021-07-14T07:13:07.615737Z",
     "iopub.status.busy": "2021-07-14T07:13:07.615138Z",
     "iopub.status.idle": "2021-07-14T07:13:07.729447Z",
     "shell.execute_reply": "2021-07-14T07:13:07.728949Z",
     "shell.execute_reply.started": "2021-07-14T07:11:49.178469Z"
    },
    "papermill": {
     "duration": 0.473947,
     "end_time": "2021-07-14T07:13:07.729582",
     "exception": false,
     "start_time": "2021-07-14T07:13:07.255635",
     "status": "completed"
    },
    "tags": []
   },
   "outputs": [
    {
     "data": {
      "text/plain": [
       "<Figure size 432x288 with 0 Axes>"
      ]
     },
     "metadata": {},
     "output_type": "display_data"
    },
    {
     "data": {
      "image/png": "[encoded data removed]",
      "text/plain": [
       "<Figure size 864x576 with 1 Axes>"
      ]
     },
     "metadata": {
      "needs_background": "light"
     },
     "output_type": "display_data"
    }
   ],
   "source": [
    "cm = confusion_matrix(y_test, sv_clf_pred)\n",
    "plt.figure()\n",
    "plot_confusion_matrix(cm, figsize=(12,8), hide_ticks=True, cmap=plt.cm.Blues)\n",
    "plt.title(\"SVC Model - Confusion Matrix\")\n",
    "plt.xticks(range(2), [\"Heart Not Failed\",\"Heart Fail\"], fontsize=16)\n",
    "plt.yticks(range(2), [\"Heart Not Failed\",\"Heart Fail\"], fontsize=16)\n",
    "plt.show()"
   ]
  },
  {
   "cell_type": "markdown",
   "metadata": {
    "papermill": {
     "duration": 0.347791,
     "end_time": "2021-07-14T07:13:08.394060",
     "exception": false,
     "start_time": "2021-07-14T07:13:08.046269",
     "status": "completed"
    },
    "tags": []
   },
   "source": [
    "**K Neighbors Classifier**"
   ]
  },
  {
   "cell_type": "code",
   "execution_count": 40,
   "metadata": {
    "execution": {
     "iopub.execute_input": "2021-07-14T07:13:09.048280Z",
     "iopub.status.busy": "2021-07-14T07:13:09.047255Z",
     "iopub.status.idle": "2021-07-14T07:13:09.053868Z",
     "shell.execute_reply": "2021-07-14T07:13:09.053317Z",
     "shell.execute_reply.started": "2021-07-14T07:11:49.319530Z"
    },
    "papermill": {
     "duration": 0.343883,
     "end_time": "2021-07-14T07:13:09.054192",
     "exception": false,
     "start_time": "2021-07-14T07:13:08.710309",
     "status": "completed"
    },
    "tags": []
   },
   "outputs": [],
   "source": [
    "# K Neighbors Classifier\n",
    "\n",
    "kn_clf = KNeighborsClassifier(n_neighbors=6)\n",
    "kn_clf.fit(x_train, y_train)\n",
    "kn_pred = kn_clf.predict(x_test)\n",
    "kn_acc = accuracy_score(y_test, kn_pred)\n",
    "accuracy_list.append(100*kn_acc)"
   ]
  },
  {
   "cell_type": "code",
   "execution_count": 41,
   "metadata": {
    "execution": {
     "iopub.execute_input": "2021-07-14T07:13:09.741223Z",
     "iopub.status.busy": "2021-07-14T07:13:09.740347Z",
     "iopub.status.idle": "2021-07-14T07:13:09.744782Z",
     "shell.execute_reply": "2021-07-14T07:13:09.744182Z",
     "shell.execute_reply.started": "2021-07-14T07:11:49.338436Z"
    },
    "papermill": {
     "duration": 0.325292,
     "end_time": "2021-07-14T07:13:09.744992",
     "exception": false,
     "start_time": "2021-07-14T07:13:09.419700",
     "status": "completed"
    },
    "tags": []
   },
   "outputs": [
    {
     "name": "stdout",
     "output_type": "stream",
     "text": [
      "\u001b[32mAccuracy of K Neighbors Classifier is :  91.67%\n"
     ]
    }
   ],
   "source": [
    "print(Fore.GREEN + \"Accuracy of K Neighbors Classifier is : \", \"{:.2f}%\".format(100* kn_acc))"
   ]
  },
  {
   "cell_type": "code",
   "execution_count": 42,
   "metadata": {
    "execution": {
     "iopub.execute_input": "2021-07-14T07:13:10.396244Z",
     "iopub.status.busy": "2021-07-14T07:13:10.390611Z",
     "iopub.status.idle": "2021-07-14T07:13:10.508001Z",
     "shell.execute_reply": "2021-07-14T07:13:10.507420Z",
     "shell.execute_reply.started": "2021-07-14T07:11:49.347536Z"
    },
    "papermill": {
     "duration": 0.444726,
     "end_time": "2021-07-14T07:13:10.508133",
     "exception": false,
     "start_time": "2021-07-14T07:13:10.063407",
     "status": "completed"
    },
    "tags": []
   },
   "outputs": [
    {
     "data": {
      "text/plain": [
       "<Figure size 432x288 with 0 Axes>"
      ]
     },
     "metadata": {},
     "output_type": "display_data"
    },
    {
     "data": {
      "image/png": "[encoded data removed]",
      "text/plain": [
       "<Figure size 864x576 with 1 Axes>"
      ]
     },
     "metadata": {
      "needs_background": "light"
     },
     "output_type": "display_data"
    }
   ],
   "source": [
    "cm = confusion_matrix(y_test, kn_pred)\n",
    "plt.figure()\n",
    "plot_confusion_matrix(cm, figsize=(12,8), hide_ticks=True, cmap=plt.cm.Blues)\n",
    "plt.title(\"K Neighbors Model - Confusion Matrix\")\n",
    "plt.xticks(range(2), [\"Heart Not Failed\",\"Heart Fail\"], fontsize=16)\n",
    "plt.yticks(range(2), [\"Heart Not Failed\",\"Heart Fail\"], fontsize=16)\n",
    "plt.show()"
   ]
  },
  {
   "cell_type": "markdown",
   "metadata": {
    "papermill": {
     "duration": 0.324004,
     "end_time": "2021-07-14T07:13:11.154688",
     "exception": false,
     "start_time": "2021-07-14T07:13:10.830684",
     "status": "completed"
    },
    "tags": []
   },
   "source": [
    "**Decision Tree Classifier**"
   ]
  },
  {
   "cell_type": "code",
   "execution_count": 43,
   "metadata": {
    "execution": {
     "iopub.execute_input": "2021-07-14T07:13:11.845993Z",
     "iopub.status.busy": "2021-07-14T07:13:11.845273Z",
     "iopub.status.idle": "2021-07-14T07:13:11.852020Z",
     "shell.execute_reply": "2021-07-14T07:13:11.851391Z",
     "shell.execute_reply.started": "2021-07-14T07:11:49.494949Z"
    },
    "papermill": {
     "duration": 0.334938,
     "end_time": "2021-07-14T07:13:11.852158",
     "exception": false,
     "start_time": "2021-07-14T07:13:11.517220",
     "status": "completed"
    },
    "tags": []
   },
   "outputs": [],
   "source": [
    "# Decision Tree Classifier\n",
    "\n",
    "dt_clf = DecisionTreeClassifier(max_leaf_nodes=3, random_state=0, criterion='entropy')\n",
    "dt_clf.fit(x_train, y_train)\n",
    "dt_pred = dt_clf.predict(x_test)\n",
    "dt_acc = accuracy_score(y_test, dt_pred)\n",
    "accuracy_list.append(100*dt_acc)"
   ]
  },
  {
   "cell_type": "code",
   "execution_count": 44,
   "metadata": {
    "execution": {
     "iopub.execute_input": "2021-07-14T07:13:12.495381Z",
     "iopub.status.busy": "2021-07-14T07:13:12.494688Z",
     "iopub.status.idle": "2021-07-14T07:13:12.498202Z",
     "shell.execute_reply": "2021-07-14T07:13:12.497621Z",
     "shell.execute_reply.started": "2021-07-14T07:11:49.511017Z"
    },
    "papermill": {
     "duration": 0.325036,
     "end_time": "2021-07-14T07:13:12.498319",
     "exception": false,
     "start_time": "2021-07-14T07:13:12.173283",
     "status": "completed"
    },
    "tags": []
   },
   "outputs": [
    {
     "name": "stdout",
     "output_type": "stream",
     "text": [
      "\u001b[32mAccuracy of Decision Tree Classifier is :  90.00%\n"
     ]
    }
   ],
   "source": [
    "print(Fore.GREEN + \"Accuracy of Decision Tree Classifier is : \", \"{:.2f}%\".format(100* dt_acc))"
   ]
  },
  {
   "cell_type": "code",
   "execution_count": 45,
   "metadata": {
    "execution": {
     "iopub.execute_input": "2021-07-14T07:13:13.185233Z",
     "iopub.status.busy": "2021-07-14T07:13:13.184584Z",
     "iopub.status.idle": "2021-07-14T07:13:13.303593Z",
     "shell.execute_reply": "2021-07-14T07:13:13.302963Z",
     "shell.execute_reply.started": "2021-07-14T07:11:49.523622Z"
    },
    "papermill": {
     "duration": 0.488163,
     "end_time": "2021-07-14T07:13:13.303712",
     "exception": false,
     "start_time": "2021-07-14T07:13:12.815549",
     "status": "completed"
    },
    "tags": []
   },
   "outputs": [
    {
     "data": {
      "text/plain": [
       "<Figure size 432x288 with 0 Axes>"
      ]
     },
     "metadata": {},
     "output_type": "display_data"
    },
    {
     "data": {
      "image/png": "[encoded data removed]",
      "text/plain": [
       "<Figure size 864x576 with 1 Axes>"
      ]
     },
     "metadata": {
      "needs_background": "light"
     },
     "output_type": "display_data"
    }
   ],
   "source": [
    "cm = confusion_matrix(y_test, dt_pred)\n",
    "plt.figure()\n",
    "plot_confusion_matrix(cm, figsize=(12,8), hide_ticks=True, cmap=plt.cm.Blues)\n",
    "plt.title(\"Decision Tree Model - Confusion Matrix\")\n",
    "plt.xticks(range(2), [\"Heart Not Failed\",\"Heart Fail\"], fontsize=16)\n",
    "plt.yticks(range(2), [\"Heart Not Failed\",\"Heart Fail\"], fontsize=16)\n",
    "plt.show()"
   ]
  },
  {
   "cell_type": "markdown",
   "metadata": {
    "papermill": {
     "duration": 0.317628,
     "end_time": "2021-07-14T07:13:13.938169",
     "exception": false,
     "start_time": "2021-07-14T07:13:13.620541",
     "status": "completed"
    },
    "tags": []
   },
   "source": [
    "**Random Forest Classifier**"
   ]
  },
  {
   "cell_type": "code",
   "execution_count": 46,
   "metadata": {
    "execution": {
     "iopub.execute_input": "2021-07-14T07:13:14.610404Z",
     "iopub.status.busy": "2021-07-14T07:13:14.599654Z",
     "iopub.status.idle": "2021-07-14T07:13:14.756070Z",
     "shell.execute_reply": "2021-07-14T07:13:14.755415Z",
     "shell.execute_reply.started": "2021-07-14T07:11:49.667575Z"
    },
    "papermill": {
     "duration": 0.488486,
     "end_time": "2021-07-14T07:13:14.756195",
     "exception": false,
     "start_time": "2021-07-14T07:13:14.267709",
     "status": "completed"
    },
    "tags": []
   },
   "outputs": [],
   "source": [
    "# RandomForestClassifier\n",
    "\n",
    "r_clf = RandomForestClassifier(max_features=0.5, max_depth=15, random_state=1)\n",
    "r_clf.fit(x_train, y_train)\n",
    "r_pred = r_clf.predict(x_test)\n",
    "r_acc = accuracy_score(y_test, r_pred)\n",
    "accuracy_list.append(100*r_acc)"
   ]
  },
  {
   "cell_type": "code",
   "execution_count": 47,
   "metadata": {
    "execution": {
     "iopub.execute_input": "2021-07-14T07:13:15.450811Z",
     "iopub.status.busy": "2021-07-14T07:13:15.450169Z",
     "iopub.status.idle": "2021-07-14T07:13:15.454438Z",
     "shell.execute_reply": "2021-07-14T07:13:15.455031Z",
     "shell.execute_reply.started": "2021-07-14T07:11:49.889220Z"
    },
    "papermill": {
     "duration": 0.376074,
     "end_time": "2021-07-14T07:13:15.455223",
     "exception": false,
     "start_time": "2021-07-14T07:13:15.079149",
     "status": "completed"
    },
    "tags": []
   },
   "outputs": [
    {
     "name": "stdout",
     "output_type": "stream",
     "text": [
      "\u001b[32mAccuracy of Random Forest Classifier is :  90.00%\n"
     ]
    }
   ],
   "source": [
    "print(Fore.GREEN + \"Accuracy of Random Forest Classifier is : \", \"{:.2f}%\".format(100* r_acc))"
   ]
  },
  {
   "cell_type": "code",
   "execution_count": 48,
   "metadata": {
    "execution": {
     "iopub.execute_input": "2021-07-14T07:13:16.111656Z",
     "iopub.status.busy": "2021-07-14T07:13:16.110923Z",
     "iopub.status.idle": "2021-07-14T07:13:16.224198Z",
     "shell.execute_reply": "2021-07-14T07:13:16.223492Z",
     "shell.execute_reply.started": "2021-07-14T07:11:49.897685Z"
    },
    "papermill": {
     "duration": 0.445517,
     "end_time": "2021-07-14T07:13:16.224336",
     "exception": false,
     "start_time": "2021-07-14T07:13:15.778819",
     "status": "completed"
    },
    "tags": []
   },
   "outputs": [
    {
     "data": {
      "text/plain": [
       "<Figure size 432x288 with 0 Axes>"
      ]
     },
     "metadata": {},
     "output_type": "display_data"
    },
    {
     "data": {
      "image/png": "[encoded data removed]",
      "text/plain": [
       "<Figure size 864x576 with 1 Axes>"
      ]
     },
     "metadata": {
      "needs_background": "light"
     },
     "output_type": "display_data"
    }
   ],
   "source": [
    "cm = confusion_matrix(y_test, r_pred)\n",
    "plt.figure()\n",
    "plot_confusion_matrix(cm, figsize=(12,8), hide_ticks=True, cmap=plt.cm.Blues)\n",
    "plt.title(\"Random Forest Model - Confusion Matrix\")\n",
    "plt.xticks(range(2), [\"Heart Not Failed\",\"Heart Fail\"], fontsize=16)\n",
    "plt.yticks(range(2), [\"Heart Not Failed\",\"Heart Fail\"], fontsize=16)\n",
    "plt.show()"
   ]
  },
  {
   "cell_type": "markdown",
   "metadata": {
    "papermill": {
     "duration": 0.31684,
     "end_time": "2021-07-14T07:13:16.858312",
     "exception": false,
     "start_time": "2021-07-14T07:13:16.541472",
     "status": "completed"
    },
    "tags": []
   },
   "source": [
    "**Gradient Boosting Classifier**"
   ]
  },
  {
   "cell_type": "code",
   "execution_count": 49,
   "metadata": {
    "execution": {
     "iopub.execute_input": "2021-07-14T07:13:17.546868Z",
     "iopub.status.busy": "2021-07-14T07:13:17.546224Z",
     "iopub.status.idle": "2021-07-14T07:13:17.604466Z",
     "shell.execute_reply": "2021-07-14T07:13:17.603792Z",
     "shell.execute_reply.started": "2021-07-14T07:11:50.040773Z"
    },
    "papermill": {
     "duration": 0.383364,
     "end_time": "2021-07-14T07:13:17.604591",
     "exception": false,
     "start_time": "2021-07-14T07:13:17.221227",
     "status": "completed"
    },
    "tags": []
   },
   "outputs": [],
   "source": [
    "# GradientBoostingClassifier\n",
    "\n",
    "gradientboost_clf = GradientBoostingClassifier(max_depth=2, random_state=1)\n",
    "gradientboost_clf.fit(x_train,y_train)\n",
    "gradientboost_pred = gradientboost_clf.predict(x_test)\n",
    "gradientboost_acc = accuracy_score(y_test, gradientboost_pred)\n",
    "accuracy_list.append(100*gradientboost_acc)"
   ]
  },
  {
   "cell_type": "code",
   "execution_count": 50,
   "metadata": {
    "execution": {
     "iopub.execute_input": "2021-07-14T07:13:18.251583Z",
     "iopub.status.busy": "2021-07-14T07:13:18.250902Z",
     "iopub.status.idle": "2021-07-14T07:13:18.255468Z",
     "shell.execute_reply": "2021-07-14T07:13:18.256191Z",
     "shell.execute_reply.started": "2021-07-14T07:11:50.120319Z"
    },
    "papermill": {
     "duration": 0.33086,
     "end_time": "2021-07-14T07:13:18.256413",
     "exception": false,
     "start_time": "2021-07-14T07:13:17.925553",
     "status": "completed"
    },
    "tags": []
   },
   "outputs": [
    {
     "name": "stdout",
     "output_type": "stream",
     "text": [
      "\u001b[32mAccuracy of Gradient Boosting is :  93.33%\n"
     ]
    }
   ],
   "source": [
    "print(Fore.GREEN + \"Accuracy of Gradient Boosting is : \", \"{:.2f}%\".format(100* gradientboost_acc))"
   ]
  },
  {
   "cell_type": "code",
   "execution_count": 51,
   "metadata": {
    "execution": {
     "iopub.execute_input": "2021-07-14T07:13:18.905936Z",
     "iopub.status.busy": "2021-07-14T07:13:18.905247Z",
     "iopub.status.idle": "2021-07-14T07:13:19.015909Z",
     "shell.execute_reply": "2021-07-14T07:13:19.015313Z",
     "shell.execute_reply.started": "2021-07-14T07:11:50.128278Z"
    },
    "papermill": {
     "duration": 0.438438,
     "end_time": "2021-07-14T07:13:19.016025",
     "exception": false,
     "start_time": "2021-07-14T07:13:18.577587",
     "status": "completed"
    },
    "tags": []
   },
   "outputs": [
    {
     "data": {
      "text/plain": [
       "<Figure size 432x288 with 0 Axes>"
      ]
     },
     "metadata": {},
     "output_type": "display_data"
    },
    {
     "data": {
      "image/png": "[encoded data removed]",
      "text/plain": [
       "<Figure size 864x576 with 1 Axes>"
      ]
     },
     "metadata": {
      "needs_background": "light"
     },
     "output_type": "display_data"
    }
   ],
   "source": [
    "cm = confusion_matrix(y_test, gradientboost_pred)\n",
    "plt.figure()\n",
    "plot_confusion_matrix(cm, figsize=(12,8), hide_ticks=True, cmap=plt.cm.Blues)\n",
    "plt.title(\"Gredient Boosting Model - Confusion Matrix\")\n",
    "plt.xticks(range(2), [\"Heart Not Failed\",\"Heart Fail\"], fontsize=16)\n",
    "plt.yticks(range(2), [\"Heart Not Failed\",\"Heart Fail\"], fontsize=16)\n",
    "plt.show()"
   ]
  },
  {
   "cell_type": "markdown",
   "metadata": {
    "papermill": {
     "duration": 0.321244,
     "end_time": "2021-07-14T07:13:19.731695",
     "exception": false,
     "start_time": "2021-07-14T07:13:19.410451",
     "status": "completed"
    },
    "tags": []
   },
   "source": [
    "**xgbrf classifier**"
   ]
  },
  {
   "cell_type": "code",
   "execution_count": 52,
   "metadata": {
    "execution": {
     "iopub.execute_input": "2021-07-14T07:13:20.382741Z",
     "iopub.status.busy": "2021-07-14T07:13:20.382149Z",
     "iopub.status.idle": "2021-07-14T07:13:20.413532Z",
     "shell.execute_reply": "2021-07-14T07:13:20.414225Z",
     "shell.execute_reply.started": "2021-07-14T07:11:50.455040Z"
    },
    "papermill": {
     "duration": 0.363122,
     "end_time": "2021-07-14T07:13:20.414413",
     "exception": false,
     "start_time": "2021-07-14T07:13:20.051291",
     "status": "completed"
    },
    "tags": []
   },
   "outputs": [],
   "source": [
    "# xgbrf classifier\n",
    "\n",
    "xgb_clf = xgboost.XGBRFClassifier(max_depth=3, random_state=1)\n",
    "xgb_clf.fit(x_train,y_train)\n",
    "xgb_pred = xgb_clf.predict(x_test)\n",
    "xgb_acc = accuracy_score(y_test, xgb_pred)\n",
    "accuracy_list.append(100*xgb_acc)"
   ]
  },
  {
   "cell_type": "code",
   "execution_count": 53,
   "metadata": {
    "execution": {
     "iopub.execute_input": "2021-07-14T07:13:21.183877Z",
     "iopub.status.busy": "2021-07-14T07:13:21.183253Z",
     "iopub.status.idle": "2021-07-14T07:13:21.186778Z",
     "shell.execute_reply": "2021-07-14T07:13:21.187339Z",
     "shell.execute_reply.started": "2021-07-14T07:11:50.517039Z"
    },
    "papermill": {
     "duration": 0.378238,
     "end_time": "2021-07-14T07:13:21.187492",
     "exception": false,
     "start_time": "2021-07-14T07:13:20.809254",
     "status": "completed"
    },
    "tags": []
   },
   "outputs": [
    {
     "name": "stdout",
     "output_type": "stream",
     "text": [
      "\u001b[32mAccuracy of XGBRFClassifier is :  93.33%\n"
     ]
    }
   ],
   "source": [
    "print(Fore.GREEN + \"Accuracy of XGBRFClassifier is : \", \"{:.2f}%\".format(100* xgb_acc))"
   ]
  },
  {
   "cell_type": "code",
   "execution_count": 54,
   "metadata": {
    "execution": {
     "iopub.execute_input": "2021-07-14T07:13:21.836305Z",
     "iopub.status.busy": "2021-07-14T07:13:21.835352Z",
     "iopub.status.idle": "2021-07-14T07:13:22.077422Z",
     "shell.execute_reply": "2021-07-14T07:13:22.077850Z",
     "shell.execute_reply.started": "2021-07-14T07:11:50.534716Z"
    },
    "papermill": {
     "duration": 0.568116,
     "end_time": "2021-07-14T07:13:22.078071",
     "exception": false,
     "start_time": "2021-07-14T07:13:21.509955",
     "status": "completed"
    },
    "tags": []
   },
   "outputs": [
    {
     "data": {
      "text/plain": [
       "<Figure size 432x288 with 0 Axes>"
      ]
     },
     "metadata": {},
     "output_type": "display_data"
    },
    {
     "data": {
      "image/png": "[encoded data removed]",
      "text/plain": [
       "<Figure size 864x576 with 1 Axes>"
      ]
     },
     "metadata": {
      "needs_background": "light"
     },
     "output_type": "display_data"
    }
   ],
   "source": [
    "cm = confusion_matrix(y_test, xgb_pred)\n",
    "plt.figure()\n",
    "plot_confusion_matrix(cm, figsize=(12,8), hide_ticks=True, cmap=plt.cm.Blues)\n",
    "plt.title(\"XGBRFClassifier Model - Confusion Matrix\")\n",
    "plt.xticks(range(2), [\"Heart Not Failed\",\"Heart Fail\"], fontsize=16)\n",
    "plt.yticks(range(2), [\"Heart Not Failed\",\"Heart Fail\"], fontsize=16)\n",
    "plt.show()"
   ]
  },
  {
   "cell_type": "markdown",
   "metadata": {
    "papermill": {
     "duration": 0.316593,
     "end_time": "2021-07-14T07:13:22.712954",
     "exception": false,
     "start_time": "2021-07-14T07:13:22.396361",
     "status": "completed"
    },
    "tags": []
   },
   "source": [
    "**LGBMClassifier**"
   ]
  },
  {
   "cell_type": "code",
   "execution_count": 55,
   "metadata": {
    "execution": {
     "iopub.execute_input": "2021-07-14T07:13:23.404475Z",
     "iopub.status.busy": "2021-07-14T07:13:23.403491Z",
     "iopub.status.idle": "2021-07-14T07:13:23.459599Z",
     "shell.execute_reply": "2021-07-14T07:13:23.460289Z",
     "shell.execute_reply.started": "2021-07-14T07:11:50.711710Z"
    },
    "papermill": {
     "duration": 0.425692,
     "end_time": "2021-07-14T07:13:23.460488",
     "exception": false,
     "start_time": "2021-07-14T07:13:23.034796",
     "status": "completed"
    },
    "tags": []
   },
   "outputs": [],
   "source": [
    "#  lightgbm \n",
    "\n",
    "lgb_clf = lightgbm.LGBMClassifier(max_depth=2, random_state=4)\n",
    "lgb_clf.fit(x_train,y_train)\n",
    "lgb_pred = lgb_clf.predict(x_test)\n",
    "lgb_acc = accuracy_score(y_test, lgb_pred)\n",
    "accuracy_list.append(100*lgb_acc)"
   ]
  },
  {
   "cell_type": "code",
   "execution_count": 56,
   "metadata": {
    "execution": {
     "iopub.execute_input": "2021-07-14T07:13:24.188608Z",
     "iopub.status.busy": "2021-07-14T07:13:24.187947Z",
     "iopub.status.idle": "2021-07-14T07:13:24.191691Z",
     "shell.execute_reply": "2021-07-14T07:13:24.192287Z",
     "shell.execute_reply.started": "2021-07-14T07:11:50.763342Z"
    },
    "papermill": {
     "duration": 0.334478,
     "end_time": "2021-07-14T07:13:24.192445",
     "exception": false,
     "start_time": "2021-07-14T07:13:23.857967",
     "status": "completed"
    },
    "tags": []
   },
   "outputs": [
    {
     "name": "stdout",
     "output_type": "stream",
     "text": [
      "\u001b[32mAccuracy of LGBMClassifier is :  91.67%\n"
     ]
    }
   ],
   "source": [
    "print(Fore.GREEN + \"Accuracy of LGBMClassifier is : \",\"{:.2f}%\".format(100* lgb_acc))"
   ]
  },
  {
   "cell_type": "code",
   "execution_count": 57,
   "metadata": {
    "execution": {
     "iopub.execute_input": "2021-07-14T07:13:24.866649Z",
     "iopub.status.busy": "2021-07-14T07:13:24.865623Z",
     "iopub.status.idle": "2021-07-14T07:13:24.967830Z",
     "shell.execute_reply": "2021-07-14T07:13:24.968355Z",
     "shell.execute_reply.started": "2021-07-14T07:11:50.772089Z"
    },
    "papermill": {
     "duration": 0.452368,
     "end_time": "2021-07-14T07:13:24.968502",
     "exception": false,
     "start_time": "2021-07-14T07:13:24.516134",
     "status": "completed"
    },
    "tags": []
   },
   "outputs": [
    {
     "data": {
      "text/plain": [
       "<Figure size 432x288 with 0 Axes>"
      ]
     },
     "metadata": {},
     "output_type": "display_data"
    },
    {
     "data": {
      "image/png": "[encoded data removed]",
      "text/plain": [
       "<Figure size 864x576 with 1 Axes>"
      ]
     },
     "metadata": {
      "needs_background": "light"
     },
     "output_type": "display_data"
    }
   ],
   "source": [
    "cm = confusion_matrix(y_test, lgb_pred)\n",
    "plt.figure()\n",
    "plot_confusion_matrix(cm, figsize=(12,8), hide_ticks=True, cmap=plt.cm.Blues)\n",
    "plt.title(\"LGBMClassifier Model - Confusion Matrix\")\n",
    "plt.xticks(range(2), [\"Heart Not Failed\",\"Heart Fail\"], fontsize=16)\n",
    "plt.yticks(range(2), [\"Heart Not Failed\",\"Heart Fail\"], fontsize=16)\n",
    "plt.show()"
   ]
  },
  {
   "cell_type": "code",
   "execution_count": 58,
   "metadata": {
    "execution": {
     "iopub.execute_input": "2021-07-14T07:13:25.674952Z",
     "iopub.status.busy": "2021-07-14T07:13:25.674383Z",
     "iopub.status.idle": "2021-07-14T07:13:25.677977Z",
     "shell.execute_reply": "2021-07-14T07:13:25.678545Z",
     "shell.execute_reply.started": "2021-07-14T07:11:50.946734Z"
    },
    "papermill": {
     "duration": 0.333209,
     "end_time": "2021-07-14T07:13:25.678686",
     "exception": false,
     "start_time": "2021-07-14T07:13:25.345477",
     "status": "completed"
    },
    "tags": []
   },
   "outputs": [],
   "source": [
    "model_list = ['Logistic Regression', 'SVC','KNearestNeighbours', 'DecisionTree', 'RandomForest',\n",
    "              'GradientBooster', 'XGBRF','LGBM']"
   ]
  },
  {
   "cell_type": "code",
   "execution_count": 59,
   "metadata": {
    "execution": {
     "iopub.execute_input": "2021-07-14T07:13:26.335468Z",
     "iopub.status.busy": "2021-07-14T07:13:26.334747Z",
     "iopub.status.idle": "2021-07-14T07:13:26.570326Z",
     "shell.execute_reply": "2021-07-14T07:13:26.570828Z",
     "shell.execute_reply.started": "2021-07-14T07:11:50.954802Z"
    },
    "papermill": {
     "duration": 0.567298,
     "end_time": "2021-07-14T07:13:26.570974",
     "exception": false,
     "start_time": "2021-07-14T07:13:26.003676",
     "status": "completed"
    },
    "tags": []
   },
   "outputs": [
    {
     "data": {
      "image/png": "[encoded data removed]",
      "text/plain": [
       "<Figure size 1440x576 with 1 Axes>"
      ]
     },
     "metadata": {},
     "output_type": "display_data"
    }
   ],
   "source": [
    "plt.rcParams['figure.figsize']=20,8\n",
    "sns.set_style('darkgrid')\n",
    "ax = sns.barplot(x=model_list, y=accuracy_list, palette = \"husl\", saturation =2.0)\n",
    "plt.xlabel('Classifier Models', fontsize = 20 )\n",
    "plt.ylabel('% of Accuracy', fontsize = 20)\n",
    "plt.title('Accuracy of different Classifier Models', fontsize = 20)\n",
    "plt.xticks(fontsize = 12, horizontalalignment = 'center', rotation = 8)\n",
    "plt.yticks(fontsize = 12)\n",
    "for i in ax.patches:\n",
    "    width, height = i.get_width(), i.get_height()\n",
    "    x, y = i.get_xy() \n",
    "    ax.annotate(f'{round(height,2)}%', (x + width/2, y + height*1.02), ha='center', fontsize = 'x-large')\n",
    "plt.show()"
   ]
  },
  {
   "cell_type": "markdown",
   "metadata": {
    "papermill": {
     "duration": 0.326174,
     "end_time": "2021-07-14T07:13:27.224510",
     "exception": false,
     "start_time": "2021-07-14T07:13:26.898336",
     "status": "completed"
    },
    "tags": []
   },
   "source": [
    "# Accuracy of different classifier models"
   ]
  },
  {
   "cell_type": "markdown",
   "metadata": {
    "papermill": {
     "duration": 0.355497,
     "end_time": "2021-07-14T07:13:27.944827",
     "exception": false,
     "start_time": "2021-07-14T07:13:27.589330",
     "status": "completed"
    },
    "tags": []
   },
   "source": [
    "* Gradient Booster Classifier: 93.33%\n",
    "* XGBRFClassifier: 93.33%\n",
    "* KNeighborsClassifier: 91.67%\n",
    "* LGBMClassifier: 91.67%\n",
    "* Random Forest Classifier: 90.00%\n",
    "* DecisionTreeClassifier: 90.00%\n",
    "* SVC: 90.00%\n",
    "* Logistic Regression: 90.00%"
   ]
  }
 ],
 "metadata": {
  "kernelspec": {
   "display_name": "Python 3",
   "language": "python",
   "name": "python3"
  },
  "language_info": {
   "codemirror_mode": {
    "name": "ipython",
    "version": 3
   },
   "file_extension": ".py",
   "mimetype": "text/x-python",
   "name": "python",
   "nbconvert_exporter": "python",
   "pygments_lexer": "ipython3",
   "version": "3.8.5"
  },
  "papermill": {
   "duration": 61.093645,
   "end_time": "2021-07-14T07:13:28.433820",
   "environment_variables": {},
   "exception": null,
   "input_path": "__notebook__.ipynb",
   "output_path": "__notebook__.ipynb",
   "parameters": {},
   "start_time": "2021-07-14T07:12:27.340175",
   "version": "2.1.0"
  },
  "varInspector": {
   "cols": {
    "lenName": 16,
    "lenType": 16,
    "lenVar": 40
   },
   "kernels_config": {
    "python": {
     "delete_cmd_postfix": "",
     "delete_cmd_prefix": "del ",
     "library": "var_list.py",
     "varRefreshCmd": "print(var_dic_list())"
    },
    "r": {
     "delete_cmd_postfix": ") ",
     "delete_cmd_prefix": "rm(",
     "library": "var_list.r",
     "varRefreshCmd": "cat(var_dic_list()) "
    }
   },
   "position": {
    "height": "144.4px",
    "left": "390.8px",
    "right": "20px",
    "top": "-11px",
    "width": "350px"
   },
   "types_to_exclude": [
    "module",
    "function",
    "builtin_function_or_method",
    "instance",
    "_Feature"
   ],
   "window_display": true
  }
 },
 "nbformat": 4,
 "nbformat_minor": 4
}
